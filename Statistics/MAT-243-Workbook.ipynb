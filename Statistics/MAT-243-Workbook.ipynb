{
 "cells": [
  {
   "cell_type": "markdown",
   "id": "5de0b332",
   "metadata": {},
   "source": [
    "# MAT-243 Statistics Workbook\n",
    "***"
   ]
  },
  {
   "cell_type": "markdown",
   "id": "28337c6d",
   "metadata": {},
   "source": [
    "### Generating population data"
   ]
  },
  {
   "cell_type": "code",
   "execution_count": 2,
   "id": "27db9da6",
   "metadata": {},
   "outputs": [
    {
     "name": "stdout",
     "output_type": "stream",
     "text": [
      "TPCP data frame\n",
      "\n",
      "       TPCP\n",
      "0      45.0\n",
      "1     184.0\n",
      "2    1277.0\n",
      "3     130.0\n",
      "4     657.0\n",
      "..      ...\n",
      "495   427.0\n",
      "496   295.0\n",
      "497   397.0\n",
      "498    87.0\n",
      "499   699.0\n",
      "\n",
      "[500 rows x 1 columns]\n"
     ]
    }
   ],
   "source": [
    "import pandas as pd\n",
    "import matplotlib.pyplot as plt\n",
    "import numpy as np\n",
    "import scipy.stats as st\n",
    "\n",
    "# use gamma distribution to randomly generate 500 observations. \n",
    "shape, scale = 1.95, 2.5\n",
    "tpcp = 100*np.random.gamma(shape, scale, 500)\n",
    "\n",
    "# pandas library can be used to convert the array into a dataframe of rounded figures with the column name TPCP.\n",
    "tpcp_df = pd.DataFrame(tpcp, columns=['TPCP'])\n",
    "tpcp_df = tpcp_df.round(0)\n",
    "\n",
    "# print the dataframe to see the first 5 and last 5 observations (note that the index of dataframe starts at 0).\n",
    "print(\"TPCP data frame\\n\")\n",
    "print(tpcp_df)"
   ]
  },
  {
   "cell_type": "markdown",
   "id": "bfb356b0",
   "metadata": {},
   "source": [
    "### Creating a histogram plot of population data"
   ]
  },
  {
   "cell_type": "code",
   "execution_count": 3,
   "id": "a4fe0069",
   "metadata": {},
   "outputs": [
    {
     "data": {
      "image/png": "[encoded data removed]",
      "text/plain": [
       "<Figure size 432x288 with 1 Axes>"
      ]
     },
     "metadata": {
      "needs_background": "light"
     },
     "output_type": "display_data"
    }
   ],
   "source": [
    "# create a figure for the plot. \n",
    "fig, ax = plt.subplots()\n",
    "\n",
    "# create a histogram plot with 50 bins of TPCP population data. \n",
    "plt.hist(tpcp_df['TPCP'], bins=50)\n",
    "\n",
    "# set a title for the plot, x-axis, and y-axis.\n",
    "plt.title('TPCP population distribution', fontsize=20)\n",
    "ax.set_xlabel('TPCP')\n",
    "ax.set_ylabel('Frequency')\n",
    "\n",
    "# show the plot.\n",
    "plt.show()"
   ]
  },
  {
   "cell_type": "markdown",
   "id": "d2011969",
   "metadata": {},
   "source": [
    "### Calculating the population mean"
   ]
  },
  {
   "cell_type": "code",
   "execution_count": 5,
   "id": "bc683e61",
   "metadata": {},
   "outputs": [
    {
     "name": "stdout",
     "output_type": "stream",
     "text": [
      "Population mean:  488.82\n"
     ]
    }
   ],
   "source": [
    "pop_mean = tpcp_df['TPCP'].mean()\n",
    "print(\"Population mean: \", round(pop_mean,2))"
   ]
  },
  {
   "cell_type": "markdown",
   "id": "9a8b9922",
   "metadata": {},
   "source": [
    "### Drawing a random sample from population and calculating sample mean"
   ]
  },
  {
   "cell_type": "code",
   "execution_count": 6,
   "id": "1e7c53f3",
   "metadata": {},
   "outputs": [
    {
     "name": "stdout",
     "output_type": "stream",
     "text": [
      "Sample mean = 476.6\n"
     ]
    }
   ],
   "source": [
    "# use sample method of the dataframe to select a random sample, with replacement, of size 50.\n",
    "tpcp_sample_df = tpcp_df.sample(50, replace=True)\n",
    "\n",
    "# print the sample mean.\n",
    "sample_mean = tpcp_sample_df['TPCP'].mean()\n",
    "print(\"Sample mean =\", round(sample_mean,2))"
   ]
  },
  {
   "cell_type": "markdown",
   "id": "8e4ab44b",
   "metadata": {},
   "source": [
    "### Repeatedly drawing samples and saving the sample mean for each sample"
   ]
  },
  {
   "cell_type": "code",
   "execution_count": 7,
   "id": "70553d62",
   "metadata": {},
   "outputs": [
    {
     "name": "stdout",
     "output_type": "stream",
     "text": [
      "Dataframe of 1000 sample means\n",
      "\n",
      "      means\n",
      "0    446.60\n",
      "1    498.80\n",
      "2    514.14\n",
      "3    556.50\n",
      "4    479.76\n",
      "..      ...\n",
      "995  465.54\n",
      "996  544.90\n",
      "997  493.76\n",
      "998  489.00\n",
      "999  488.80\n",
      "\n",
      "[1000 rows x 1 columns]\n"
     ]
    }
   ],
   "source": [
    "# run a for loop to repeat the process Step 4 one thousand times to select one thousand samples.\n",
    "# save the mean of each sample that was drawn in a Python list called means_list.\n",
    "means_list = []\n",
    "for i in range(1000):\n",
    "    tpcp_sample_df = tpcp_df.sample(50, replace=True)\n",
    "    sample_mean = tpcp_sample_df['TPCP'].mean()\n",
    "    means_list.append(sample_mean)\n",
    "    \n",
    "# create a Python dataframe of means.\n",
    "means_df = pd.DataFrame(means_list, columns=['means'])\n",
    "print(\"Dataframe of 1000 sample means\\n\")\n",
    "print(means_df)"
   ]
  },
  {
   "cell_type": "code",
   "execution_count": 9,
   "id": "bce29453",
   "metadata": {},
   "outputs": [
    {
     "data": {
      "image/png": "[encoded data removed]",
      "text/plain": [
       "<Figure size 432x288 with 1 Axes>"
      ]
     },
     "metadata": {
      "needs_background": "light"
     },
     "output_type": "display_data"
    }
   ],
   "source": [
    "# create a figure for the plot. \n",
    "fig, ax = plt.subplots()\n",
    "\n",
    "# create a histogram plot with 50 bins of 1,000 means. \n",
    "plt.hist(means_df['means'], bins=50)\n",
    "\n",
    "# set a title for the plot, x-axis and y-axis.\n",
    "plt.title('Distribution of 1000 sample means', fontsize=20) # title\n",
    "ax.set_xlabel('Means')\n",
    "ax.set_ylabel('Frequency')\n",
    "\n",
    "# show the plot.\n",
    "plt.show()"
   ]
  },
  {
   "cell_type": "code",
   "execution_count": 10,
   "id": "43e743f8",
   "metadata": {},
   "outputs": [
    {
     "name": "stdout",
     "output_type": "stream",
     "text": [
      "Grand Mean (Mean of 1000 sample means) = 487.32\n",
      "Std Deviation of 1000 sample means = 51.03\n",
      "Probability that a specific mean is 450 or less = 0.2323\n"
     ]
    }
   ],
   "source": [
    "# calculate mean of the 1,000 sample means (this is called the grand mean or mean of the means).\n",
    "mean1000 = means_df['means'].mean()\n",
    "print(\"Grand Mean (Mean of 1000 sample means) =\",round(mean1000,2))\n",
    "\n",
    "# calculate standard deviation of the 1,000 sample means.\n",
    "std1000 = means_df['means'].std()\n",
    "print(\"Std Deviation of 1000 sample means =\",round(std1000,2))\n",
    "\n",
    "# print the probability that a specific mean is 450 or less for a Normal distribution with mean and standard deviation of 1,000 sample means.\n",
    "prob_450_less_or_equal = st.norm.cdf(450, mean1000, std1000)\n",
    "print(\"Probability that a specific mean is 450 or less =\", round(prob_450_less_or_equal,4))"
   ]
  },
  {
   "cell_type": "markdown",
   "id": "2dcb724a",
   "metadata": {},
   "source": [
    "### Mean, variance, and standard deviation of a discrete random variable.\n",
    "To find the mean, variance, and standard deviation of a discrete random variable, the rv_discrete class must be imported from the scipy.stats library. Next, a list containing the outcomes in a sample space and a list containing the probabilities of each outcome are defined. The outcome and probability lists are then linked."
   ]
  },
  {
   "cell_type": "code",
   "execution_count": 35,
   "id": "e835505b",
   "metadata": {},
   "outputs": [
    {
     "name": "stdout",
     "output_type": "stream",
     "text": [
      "<scipy.stats._distn_infrastructure.rv_sample object at 0x0000026610831C40>\n",
      "Mean:  2.7\n",
      "Variance:  3.81\n",
      "Standard deviation:  1.95\n"
     ]
    }
   ],
   "source": [
    "# Defines a list containing the outcomes in the sample space\n",
    "x = [0,1,2,3,4,5,6]\n",
    "\n",
    "# Defines a list containing the probabilities for each outcome\n",
    "p = [0.1,0.2,0.3,0.1,0.1,0.0,0.2]\n",
    "\n",
    "# Links the values in x to the probabilities in p\n",
    "discvar = st.rv_discrete(values=(x,p))\n",
    "\n",
    "# Returns the mean of the discrete random variable\n",
    "print(\"Mean: \", discvar.mean())\n",
    "# Returns the variance of the discrete random variable \n",
    "print(\"Variance: \" ,round(discvar.var(),2))\n",
    "# Returns the standard deviation of the discrete random variable\n",
    "print(\"Standard deviation: \",round(discvar.std(),2))"
   ]
  },
  {
   "cell_type": "markdown",
   "id": "e16363eb",
   "metadata": {},
   "source": [
    "### The probability density function of a continuous random variable\n",
    "A probability density function (pdf) describes the relative likelihood of all values for a continuous random variable. Ex: The amount of time for Casey to do his chores is a random variable , where all values between  hour and  hours are equally likely. The notation  is typically used for the pdf. For Casey's chores,  for all values of  between  and  and  everywhere else.\n",
    "\n",
    "### The cumulative distribution function of a continuous random variable\n",
    "A cumulative distribution function (cdf) of a continuous random variable is the probability that for any number , the observed value of the random variable will be at most  or . Ex: When Casey does housework, the cdf describes the probability of Casey finishing in time less than or equal to any value  such that the probability  is less than or equal to . The notation  is typically used for the cdf of , in contrast to lower-case  for the pdf. Ex:  is read \"the probability  is less than or equal to \". As with discrete random variables, the cdf always starts at  and ends at  and never decreases as the value of  increases. The cdf may approach the limits of  and  in cases where the possible values of  are infinite.\n",
    "\n",
    "### Mean, variance, and standard deviation of a continuous random variable\n",
    "* The mean  or expected value  of a continuous random variable  is a measure of the center of the distribution. The mean is a weighted average of the possible values of the random variable, with the pdf providing the weights. Graphically, the mean is where a pivot is placed so that the pdf balances.\n",
    "* The variance  of a continuous random variable  is a measure of the spread of a distribution. The variance, like the mean, is a weighted average. The variance averages the squared distance of each possible value of  from the mean, with weights provided by the pdf.\n",
    "* The standard deviation  is another measure of the spread of the distribution. The standard deviation is the square root of the variance, .\n",
    "\n",
    "### Z-Scores\n",
    "* A z-score is a signed value that indicates the number of standard deviations a quantity is from the mean. A positive -score indicates that the quantity is above the mean and a negative -score indicates that the quantity is below the mean. A -score with high absolute value implies that the quantity is farther from the mean, and thus more unusual. z-scores are particularly important for determining whether a data point is an outlier and for comparing quantities from different unimodal, symmetric distributions."
   ]
  },
  {
   "cell_type": "markdown",
   "id": "508556b5",
   "metadata": {},
   "source": [
    "## Standard Normal Distribution"
   ]
  },
  {
   "cell_type": "markdown",
   "id": "dd8a5d93",
   "metadata": {},
   "source": [
    "### Python-Function 2.4.2: norm.ppf() and norm.isf()\n",
    "The norm.ppf() and norm.isf() functions are used to convert percentiles to -scores. The scipy.stats library must be imported to use these functions.\n",
    "* norm.ppf(p, mean, sd) returns the critical -score for which the probability of  being below that -score is p, for a normal distribution with the specified mean and standard deviation.\n",
    "* norm.isf(p, mean, sd) returns the critical -score for which the probability of  being above that -score is p, for a normal distribution with the specified mean and standard deviation."
   ]
  },
  {
   "cell_type": "code",
   "execution_count": 43,
   "id": "aa570335",
   "metadata": {},
   "outputs": [
    {
     "name": "stdout",
     "output_type": "stream",
     "text": [
      "z-score:  0.8416212335729143\n",
      "ppf value:  157.36\n",
      "test value:  157.36\n"
     ]
    }
   ],
   "source": [
    "#norm.ppf(0.80, loc=0, scale=1)Returns a 80% significance interval for a one-tail test on a standard normal distribution\n",
    "#To get the exact number, we take the norm.ppf() output and multiply it by our standard deviation for the distribution in \n",
    "#question.\n",
    "\n",
    "print(\"z-score: \", st.norm.ppf(.8, loc=0, scale=1))\n",
    "#for mean=150, std = 8.75\n",
    "val_ppf = st.norm.ppf(.8, 150,8.75)\n",
    "\n",
    "print(\"ppf value: \", round(val_ppf,2))\n",
    "print(\"test value: \", round(st.norm.ppf(.8, loc=0, scale=1)*8.75+150,2)) #test that they are the same"
   ]
  },
  {
   "cell_type": "code",
   "execution_count": 44,
   "id": "f684fdd6",
   "metadata": {},
   "outputs": [
    {
     "name": "stdout",
     "output_type": "stream",
     "text": [
      "-1.1030625561995975\n"
     ]
    }
   ],
   "source": [
    "# For a normal distribution, if the mean is 0 and \n",
    "# the standard deviation is 1, what is z* if P(z < z*) = 0.135?\n",
    "print(st.norm.ppf(0.135, 0, 1))"
   ]
  },
  {
   "cell_type": "code",
   "execution_count": 45,
   "id": "4065d1c6",
   "metadata": {},
   "outputs": [
    {
     "name": "stdout",
     "output_type": "stream",
     "text": [
      "0.2404260311423079\n"
     ]
    }
   ],
   "source": [
    "# For a normal distribution, if the mean is 0 and \n",
    "# the standard deviation is 1, what is z* if P(z > z*) = 0.405?\n",
    "print(st.norm.isf(0.405, 0, 1))"
   ]
  },
  {
   "cell_type": "code",
   "execution_count": 47,
   "id": "927731ae",
   "metadata": {},
   "outputs": [
    {
     "name": "stdout",
     "output_type": "stream",
     "text": [
      "62.00069589151078\n",
      "42.66359779786396\n"
     ]
    }
   ],
   "source": [
    "# For a normal distribution, if the mean is 55 and \n",
    "# the standard deviation is 7.5, what is x* if P(x < x*) = 0.8247?\n",
    "print(st.norm.ppf(0.8247, 55, 7.5))\n",
    "\n",
    "# For a normal distribution, if the mean is 55 and \n",
    "# the standard deviation is 7.5, what is x* if P(x > x*) = 0.95?\n",
    "print(st.norm.isf(0.95, 55, 7.5))"
   ]
  },
  {
   "cell_type": "markdown",
   "id": "710c80a0",
   "metadata": {},
   "source": [
    "### Python-Function 2.4.1: norm.cdf() and norm.sf()\n",
    "The norm.cdf() and norm.sf() functions are used to find probabilities related to the normal distribution. The scipy.stats library must be imported to use these functions.\n",
    "* The norm.cdf(z, mean, sd) returns the probability of  being less or equal to than the critical value  for a normal distribution with the specified mean and standard deviation.\n",
    "* The norm.sf(z, mean, sd) returns the probability of  being greater than or equal to the critical value  for a normal distribution with the specified mean and standard deviation."
   ]
  },
  {
   "cell_type": "code",
   "execution_count": 38,
   "id": "15ecb58d",
   "metadata": {},
   "outputs": [
    {
     "name": "stdout",
     "output_type": "stream",
     "text": [
      "-1.1030625561995975\n"
     ]
    }
   ],
   "source": [
    "# For a normal distribution, if the mean is 0 and \n",
    "# the standard deviation is 1, what is P(z <= -0.25)?\n",
    "print(st.norm.cdf(-0.25, 0, 1))\n",
    "\n",
    "# For a normal distribution, if the mean is 0 and \n",
    "# the standard deviation is 1, what is P(z <= 1.5)?\n",
    "print(st.norm.cdf(1.5, 0, 1))"
   ]
  },
  {
   "cell_type": "code",
   "execution_count": 39,
   "id": "3c3600fc",
   "metadata": {},
   "outputs": [
    {
     "name": "stdout",
     "output_type": "stream",
     "text": [
      "0.2404260311423079\n"
     ]
    }
   ],
   "source": [
    "# For a normal distribution, if the mean is 0 and \n",
    "# the standard deviation is 1, what is P(z >= -0.25)?\n",
    "print(st.norm.sf(-0.25, 0, 1))\n",
    "\n",
    "# For a normal distribution, if the mean is 0 and \n",
    "# the standard deviation is 1, what is P(z >= 1.5)?\n",
    "print(st.norm.sf(1.5, 0, 1))"
   ]
  },
  {
   "cell_type": "code",
   "execution_count": 46,
   "id": "c44c8dfa",
   "metadata": {},
   "outputs": [
    {
     "name": "stdout",
     "output_type": "stream",
     "text": [
      "0.8246760551477705\n",
      "0.7030985713961488\n",
      "0.5356520638696805\n"
     ]
    }
   ],
   "source": [
    "# For a normal distribution, if the mean is 55 and \n",
    "# the standard deviation is 7.5, what is P(x <= 62)?\n",
    "print(st.norm.cdf(62, 55, 7.5))\n",
    "\n",
    "# For a normal distribution, if the mean is 55 and \n",
    "# the standard deviation is 7.5, what is P(x >= 51)?\n",
    "print(st.norm.sf(51, 55, 7.5))\n",
    "\n",
    "# For a normal distribution, if the mean is 55 and \n",
    "# the standard deviation is 7.5, what is P(49 <= x <= 60)?\n",
    "print(st.norm.cdf(60, 55, 7.5) - st.norm.cdf(49, 55, 7.5))"
   ]
  }
 ],
 "metadata": {
  "kernelspec": {
   "display_name": "Python 3 (ipykernel)",
   "language": "python",
   "name": "python3"
  },
  "language_info": {
   "codemirror_mode": {
    "name": "ipython",
    "version": 3
   },
   "file_extension": ".py",
   "mimetype": "text/x-python",
   "name": "python",
   "nbconvert_exporter": "python",
   "pygments_lexer": "ipython3",
   "version": "3.9.12"
  }
 },
 "nbformat": 4,
 "nbformat_minor": 5
}
