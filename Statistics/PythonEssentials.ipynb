{
 "cells": [
  {
   "cell_type": "markdown",
   "id": "07a57f5a",
   "metadata": {},
   "source": [
    "# Python Statistics: Essential Training\n",
    "******"
   ]
  },
  {
   "cell_type": "markdown",
   "id": "83e7fbf2",
   "metadata": {},
   "source": [
    "#### Import Standard Statistical packages"
   ]
  },
  {
   "cell_type": "code",
   "execution_count": 92,
   "id": "97767fb2",
   "metadata": {},
   "outputs": [],
   "source": [
    "import numpy as np\n",
    "import pandas as pd\n",
    "\n",
    "import scipy.stats\n",
    "\n",
    "import matplotlib\n",
    "import matplotlib.pyplot as pp\n",
    "\n",
    "from IPython import display\n",
    "import ipywidgets as widgets\n",
    "from ipywidgets import interact, interact_manual\n",
    "\n",
    "%matplotlib inline\n",
    "\n",
    "import re\n",
    "import mailbox\n",
    "import csv"
   ]
  },
  {
   "cell_type": "markdown",
   "id": "f2f75ec6",
   "metadata": {},
   "source": [
    "### Define function"
   ]
  },
  {
   "cell_type": "code",
   "execution_count": 4,
   "id": "4b6b4e6e",
   "metadata": {},
   "outputs": [],
   "source": [
    "def double(x):\n",
    "    return 2*x"
   ]
  },
  {
   "cell_type": "code",
   "execution_count": 5,
   "id": "0fe5b90b",
   "metadata": {},
   "outputs": [
    {
     "name": "stdout",
     "output_type": "stream",
     "text": [
      "8\n"
     ]
    }
   ],
   "source": [
    "print(double(4))"
   ]
  },
  {
   "cell_type": "markdown",
   "id": "bd556f1a",
   "metadata": {},
   "source": [
    "### Format text\n",
    "***\n",
    "\n",
    "**bold**\n",
    "\n",
    "* bullet\n",
    "\n",
    "$\\sqrt{2+3}$"
   ]
  },
  {
   "cell_type": "markdown",
   "id": "723f0854",
   "metadata": {},
   "source": [
    "### Pandas"
   ]
  },
  {
   "cell_type": "code",
   "execution_count": 6,
   "id": "e9b9c417",
   "metadata": {},
   "outputs": [],
   "source": [
    "planets = pd.read_csv('Planets.csv')"
   ]
  },
  {
   "cell_type": "code",
   "execution_count": 7,
   "id": "9001adf3",
   "metadata": {},
   "outputs": [
    {
     "data": {
      "text/html": [
       "<div>\n",
       "<style scoped>\n",
       "    .dataframe tbody tr th:only-of-type {\n",
       "        vertical-align: middle;\n",
       "    }\n",
       "\n",
       "    .dataframe tbody tr th {\n",
       "        vertical-align: top;\n",
       "    }\n",
       "\n",
       "    .dataframe thead th {\n",
       "        text-align: right;\n",
       "    }\n",
       "</style>\n",
       "<table border=\"1\" class=\"dataframe\">\n",
       "  <thead>\n",
       "    <tr style=\"text-align: right;\">\n",
       "      <th></th>\n",
       "      <th>Planet</th>\n",
       "      <th>Mass</th>\n",
       "      <th>Diameter</th>\n",
       "      <th>DayLength</th>\n",
       "      <th>SunDistance</th>\n",
       "      <th>OrbitPeriod</th>\n",
       "      <th>OrbitVelocity</th>\n",
       "      <th>MeanTemperature</th>\n",
       "      <th>SurfacePressure</th>\n",
       "      <th>Moons</th>\n",
       "      <th>Rings</th>\n",
       "      <th>MagneticField</th>\n",
       "      <th>FirstVisited</th>\n",
       "      <th>FirstMission</th>\n",
       "    </tr>\n",
       "  </thead>\n",
       "  <tbody>\n",
       "    <tr>\n",
       "      <th>0</th>\n",
       "      <td>MERCURY</td>\n",
       "      <td>0.3300</td>\n",
       "      <td>4879</td>\n",
       "      <td>4222.6</td>\n",
       "      <td>57.9</td>\n",
       "      <td>88</td>\n",
       "      <td>47.4</td>\n",
       "      <td>167</td>\n",
       "      <td>0.00000</td>\n",
       "      <td>0</td>\n",
       "      <td>No</td>\n",
       "      <td>Yes</td>\n",
       "      <td>1974-03-29</td>\n",
       "      <td>Mariner 10</td>\n",
       "    </tr>\n",
       "    <tr>\n",
       "      <th>1</th>\n",
       "      <td>VENUS</td>\n",
       "      <td>4.8700</td>\n",
       "      <td>12,104</td>\n",
       "      <td>2802.0</td>\n",
       "      <td>108.2</td>\n",
       "      <td>224.7</td>\n",
       "      <td>35.0</td>\n",
       "      <td>464</td>\n",
       "      <td>92.00000</td>\n",
       "      <td>0</td>\n",
       "      <td>No</td>\n",
       "      <td>No</td>\n",
       "      <td>1962-08-27</td>\n",
       "      <td>Mariner 2</td>\n",
       "    </tr>\n",
       "    <tr>\n",
       "      <th>2</th>\n",
       "      <td>EARTH</td>\n",
       "      <td>5.9700</td>\n",
       "      <td>12,756</td>\n",
       "      <td>24.0</td>\n",
       "      <td>149.6</td>\n",
       "      <td>365.2</td>\n",
       "      <td>29.8</td>\n",
       "      <td>15</td>\n",
       "      <td>1.00000</td>\n",
       "      <td>1</td>\n",
       "      <td>No</td>\n",
       "      <td>Yes</td>\n",
       "      <td>NaN</td>\n",
       "      <td>NaN</td>\n",
       "    </tr>\n",
       "    <tr>\n",
       "      <th>3</th>\n",
       "      <td>MOON</td>\n",
       "      <td>0.0730</td>\n",
       "      <td>3475</td>\n",
       "      <td>708.7</td>\n",
       "      <td>NaN</td>\n",
       "      <td>27.3</td>\n",
       "      <td>1.0</td>\n",
       "      <td>-20</td>\n",
       "      <td>0.00000</td>\n",
       "      <td>0</td>\n",
       "      <td>No</td>\n",
       "      <td>No</td>\n",
       "      <td>1959-09-12</td>\n",
       "      <td>Luna 2</td>\n",
       "    </tr>\n",
       "    <tr>\n",
       "      <th>4</th>\n",
       "      <td>MARS</td>\n",
       "      <td>0.6420</td>\n",
       "      <td>6792</td>\n",
       "      <td>24.7</td>\n",
       "      <td>227.9</td>\n",
       "      <td>687</td>\n",
       "      <td>24.1</td>\n",
       "      <td>-65</td>\n",
       "      <td>0.01000</td>\n",
       "      <td>2</td>\n",
       "      <td>No</td>\n",
       "      <td>No</td>\n",
       "      <td>1965-07-15</td>\n",
       "      <td>Mariner 4</td>\n",
       "    </tr>\n",
       "    <tr>\n",
       "      <th>5</th>\n",
       "      <td>JUPITER</td>\n",
       "      <td>1898.0000</td>\n",
       "      <td>142,984</td>\n",
       "      <td>9.9</td>\n",
       "      <td>778.6</td>\n",
       "      <td>4331</td>\n",
       "      <td>13.1</td>\n",
       "      <td>-110</td>\n",
       "      <td>NaN</td>\n",
       "      <td>67</td>\n",
       "      <td>Yes</td>\n",
       "      <td>Yes</td>\n",
       "      <td>1973-12-04</td>\n",
       "      <td>Pioneer 10</td>\n",
       "    </tr>\n",
       "    <tr>\n",
       "      <th>6</th>\n",
       "      <td>SATURN</td>\n",
       "      <td>568.0000</td>\n",
       "      <td>120,536</td>\n",
       "      <td>10.7</td>\n",
       "      <td>1433.5</td>\n",
       "      <td>10,747</td>\n",
       "      <td>9.7</td>\n",
       "      <td>-140</td>\n",
       "      <td>NaN</td>\n",
       "      <td>62</td>\n",
       "      <td>Yes</td>\n",
       "      <td>Yes</td>\n",
       "      <td>1979-09-01</td>\n",
       "      <td>Pioneer 11</td>\n",
       "    </tr>\n",
       "    <tr>\n",
       "      <th>7</th>\n",
       "      <td>URANUS</td>\n",
       "      <td>86.8000</td>\n",
       "      <td>51,118</td>\n",
       "      <td>17.2</td>\n",
       "      <td>2872.5</td>\n",
       "      <td>30,589</td>\n",
       "      <td>6.8</td>\n",
       "      <td>-195</td>\n",
       "      <td>NaN</td>\n",
       "      <td>27</td>\n",
       "      <td>Yes</td>\n",
       "      <td>Yes</td>\n",
       "      <td>1986-01-24</td>\n",
       "      <td>Voyager 2</td>\n",
       "    </tr>\n",
       "    <tr>\n",
       "      <th>8</th>\n",
       "      <td>NEPTUNE</td>\n",
       "      <td>102.0000</td>\n",
       "      <td>49,528</td>\n",
       "      <td>16.1</td>\n",
       "      <td>4495.1</td>\n",
       "      <td>59,800</td>\n",
       "      <td>5.4</td>\n",
       "      <td>-200</td>\n",
       "      <td>NaN</td>\n",
       "      <td>14</td>\n",
       "      <td>Yes</td>\n",
       "      <td>Yes</td>\n",
       "      <td>1989-08-25</td>\n",
       "      <td>Voyager 2</td>\n",
       "    </tr>\n",
       "    <tr>\n",
       "      <th>9</th>\n",
       "      <td>PLUTO</td>\n",
       "      <td>0.0146</td>\n",
       "      <td>2370</td>\n",
       "      <td>153.3</td>\n",
       "      <td>5906.4</td>\n",
       "      <td>90,560</td>\n",
       "      <td>4.7</td>\n",
       "      <td>-225</td>\n",
       "      <td>0.00001</td>\n",
       "      <td>5</td>\n",
       "      <td>No</td>\n",
       "      <td>NaN</td>\n",
       "      <td>2015-07-14</td>\n",
       "      <td>New Horizons</td>\n",
       "    </tr>\n",
       "  </tbody>\n",
       "</table>\n",
       "</div>"
      ],
      "text/plain": [
       "    Planet       Mass Diameter  DayLength  SunDistance OrbitPeriod  \\\n",
       "0  MERCURY     0.3300     4879     4222.6         57.9          88   \n",
       "1    VENUS     4.8700   12,104     2802.0        108.2       224.7   \n",
       "2    EARTH     5.9700   12,756       24.0        149.6       365.2   \n",
       "3     MOON     0.0730     3475      708.7          NaN        27.3   \n",
       "4     MARS     0.6420     6792       24.7        227.9         687   \n",
       "5  JUPITER  1898.0000  142,984        9.9        778.6        4331   \n",
       "6   SATURN   568.0000  120,536       10.7       1433.5      10,747   \n",
       "7   URANUS    86.8000   51,118       17.2       2872.5      30,589   \n",
       "8  NEPTUNE   102.0000   49,528       16.1       4495.1      59,800   \n",
       "9    PLUTO     0.0146     2370      153.3       5906.4      90,560   \n",
       "\n",
       "   OrbitVelocity  MeanTemperature  SurfacePressure  Moons Rings MagneticField  \\\n",
       "0           47.4              167          0.00000      0    No           Yes   \n",
       "1           35.0              464         92.00000      0    No            No   \n",
       "2           29.8               15          1.00000      1    No           Yes   \n",
       "3            1.0              -20          0.00000      0    No            No   \n",
       "4           24.1              -65          0.01000      2    No            No   \n",
       "5           13.1             -110              NaN     67   Yes           Yes   \n",
       "6            9.7             -140              NaN     62   Yes           Yes   \n",
       "7            6.8             -195              NaN     27   Yes           Yes   \n",
       "8            5.4             -200              NaN     14   Yes           Yes   \n",
       "9            4.7             -225          0.00001      5    No           NaN   \n",
       "\n",
       "  FirstVisited  FirstMission  \n",
       "0   1974-03-29    Mariner 10  \n",
       "1   1962-08-27     Mariner 2  \n",
       "2          NaN           NaN  \n",
       "3   1959-09-12        Luna 2  \n",
       "4   1965-07-15     Mariner 4  \n",
       "5   1973-12-04    Pioneer 10  \n",
       "6   1979-09-01    Pioneer 11  \n",
       "7   1986-01-24     Voyager 2  \n",
       "8   1989-08-25     Voyager 2  \n",
       "9   2015-07-14  New Horizons  "
      ]
     },
     "execution_count": 7,
     "metadata": {},
     "output_type": "execute_result"
    }
   ],
   "source": [
    "planets"
   ]
  },
  {
   "cell_type": "code",
   "execution_count": 8,
   "id": "88b67203",
   "metadata": {},
   "outputs": [],
   "source": [
    "planets = pd.read_csv('Planets.csv', usecols=[0,1,2,3])"
   ]
  },
  {
   "cell_type": "code",
   "execution_count": 9,
   "id": "8d6972e6",
   "metadata": {},
   "outputs": [
    {
     "data": {
      "text/html": [
       "<div>\n",
       "<style scoped>\n",
       "    .dataframe tbody tr th:only-of-type {\n",
       "        vertical-align: middle;\n",
       "    }\n",
       "\n",
       "    .dataframe tbody tr th {\n",
       "        vertical-align: top;\n",
       "    }\n",
       "\n",
       "    .dataframe thead th {\n",
       "        text-align: right;\n",
       "    }\n",
       "</style>\n",
       "<table border=\"1\" class=\"dataframe\">\n",
       "  <thead>\n",
       "    <tr style=\"text-align: right;\">\n",
       "      <th></th>\n",
       "      <th>Planet</th>\n",
       "      <th>Mass</th>\n",
       "      <th>Diameter</th>\n",
       "      <th>DayLength</th>\n",
       "    </tr>\n",
       "  </thead>\n",
       "  <tbody>\n",
       "    <tr>\n",
       "      <th>0</th>\n",
       "      <td>MERCURY</td>\n",
       "      <td>0.3300</td>\n",
       "      <td>4879</td>\n",
       "      <td>4222.6</td>\n",
       "    </tr>\n",
       "    <tr>\n",
       "      <th>1</th>\n",
       "      <td>VENUS</td>\n",
       "      <td>4.8700</td>\n",
       "      <td>12,104</td>\n",
       "      <td>2802.0</td>\n",
       "    </tr>\n",
       "    <tr>\n",
       "      <th>2</th>\n",
       "      <td>EARTH</td>\n",
       "      <td>5.9700</td>\n",
       "      <td>12,756</td>\n",
       "      <td>24.0</td>\n",
       "    </tr>\n",
       "    <tr>\n",
       "      <th>3</th>\n",
       "      <td>MOON</td>\n",
       "      <td>0.0730</td>\n",
       "      <td>3475</td>\n",
       "      <td>708.7</td>\n",
       "    </tr>\n",
       "    <tr>\n",
       "      <th>4</th>\n",
       "      <td>MARS</td>\n",
       "      <td>0.6420</td>\n",
       "      <td>6792</td>\n",
       "      <td>24.7</td>\n",
       "    </tr>\n",
       "    <tr>\n",
       "      <th>5</th>\n",
       "      <td>JUPITER</td>\n",
       "      <td>1898.0000</td>\n",
       "      <td>142,984</td>\n",
       "      <td>9.9</td>\n",
       "    </tr>\n",
       "    <tr>\n",
       "      <th>6</th>\n",
       "      <td>SATURN</td>\n",
       "      <td>568.0000</td>\n",
       "      <td>120,536</td>\n",
       "      <td>10.7</td>\n",
       "    </tr>\n",
       "    <tr>\n",
       "      <th>7</th>\n",
       "      <td>URANUS</td>\n",
       "      <td>86.8000</td>\n",
       "      <td>51,118</td>\n",
       "      <td>17.2</td>\n",
       "    </tr>\n",
       "    <tr>\n",
       "      <th>8</th>\n",
       "      <td>NEPTUNE</td>\n",
       "      <td>102.0000</td>\n",
       "      <td>49,528</td>\n",
       "      <td>16.1</td>\n",
       "    </tr>\n",
       "    <tr>\n",
       "      <th>9</th>\n",
       "      <td>PLUTO</td>\n",
       "      <td>0.0146</td>\n",
       "      <td>2370</td>\n",
       "      <td>153.3</td>\n",
       "    </tr>\n",
       "  </tbody>\n",
       "</table>\n",
       "</div>"
      ],
      "text/plain": [
       "    Planet       Mass Diameter  DayLength\n",
       "0  MERCURY     0.3300     4879     4222.6\n",
       "1    VENUS     4.8700   12,104     2802.0\n",
       "2    EARTH     5.9700   12,756       24.0\n",
       "3     MOON     0.0730     3475      708.7\n",
       "4     MARS     0.6420     6792       24.7\n",
       "5  JUPITER  1898.0000  142,984        9.9\n",
       "6   SATURN   568.0000  120,536       10.7\n",
       "7   URANUS    86.8000   51,118       17.2\n",
       "8  NEPTUNE   102.0000   49,528       16.1\n",
       "9    PLUTO     0.0146     2370      153.3"
      ]
     },
     "execution_count": 9,
     "metadata": {},
     "output_type": "execute_result"
    }
   ],
   "source": [
    "planets"
   ]
  },
  {
   "cell_type": "code",
   "execution_count": 10,
   "id": "bd813d0c",
   "metadata": {},
   "outputs": [
    {
     "data": {
      "text/plain": [
       "0       0.3300\n",
       "1       4.8700\n",
       "2       5.9700\n",
       "3       0.0730\n",
       "4       0.6420\n",
       "5    1898.0000\n",
       "6     568.0000\n",
       "7      86.8000\n",
       "8     102.0000\n",
       "9       0.0146\n",
       "Name: Mass, dtype: float64"
      ]
     },
     "execution_count": 10,
     "metadata": {},
     "output_type": "execute_result"
    }
   ],
   "source": [
    "planets['Mass']"
   ]
  },
  {
   "cell_type": "code",
   "execution_count": 11,
   "id": "b28d169e",
   "metadata": {},
   "outputs": [
    {
     "data": {
      "text/plain": [
       "0       0.3300\n",
       "1       4.8700\n",
       "2       5.9700\n",
       "3       0.0730\n",
       "4       0.6420\n",
       "5    1898.0000\n",
       "6     568.0000\n",
       "7      86.8000\n",
       "8     102.0000\n",
       "9       0.0146\n",
       "Name: Mass, dtype: float64"
      ]
     },
     "execution_count": 11,
     "metadata": {},
     "output_type": "execute_result"
    }
   ],
   "source": [
    "planets.Mass"
   ]
  },
  {
   "cell_type": "code",
   "execution_count": 12,
   "id": "deaab8aa",
   "metadata": {},
   "outputs": [
    {
     "data": {
      "text/plain": [
       "RangeIndex(start=0, stop=10, step=1)"
      ]
     },
     "execution_count": 12,
     "metadata": {},
     "output_type": "execute_result"
    }
   ],
   "source": [
    "planets.index"
   ]
  },
  {
   "cell_type": "code",
   "execution_count": 13,
   "id": "b9b506e9",
   "metadata": {},
   "outputs": [
    {
     "data": {
      "text/plain": [
       "Planet       MERCURY\n",
       "Mass            0.33\n",
       "Diameter        4879\n",
       "DayLength     4222.6\n",
       "Name: 0, dtype: object"
      ]
     },
     "execution_count": 13,
     "metadata": {},
     "output_type": "execute_result"
    }
   ],
   "source": [
    "planets.loc[0]"
   ]
  },
  {
   "cell_type": "code",
   "execution_count": 14,
   "id": "123ed935",
   "metadata": {},
   "outputs": [],
   "source": [
    "planets.set_index('Planet', inplace=True)   #set to false if a copy is desired"
   ]
  },
  {
   "cell_type": "code",
   "execution_count": 15,
   "id": "919464ea",
   "metadata": {},
   "outputs": [
    {
     "data": {
      "text/html": [
       "<div>\n",
       "<style scoped>\n",
       "    .dataframe tbody tr th:only-of-type {\n",
       "        vertical-align: middle;\n",
       "    }\n",
       "\n",
       "    .dataframe tbody tr th {\n",
       "        vertical-align: top;\n",
       "    }\n",
       "\n",
       "    .dataframe thead th {\n",
       "        text-align: right;\n",
       "    }\n",
       "</style>\n",
       "<table border=\"1\" class=\"dataframe\">\n",
       "  <thead>\n",
       "    <tr style=\"text-align: right;\">\n",
       "      <th></th>\n",
       "      <th>Mass</th>\n",
       "      <th>Diameter</th>\n",
       "      <th>DayLength</th>\n",
       "    </tr>\n",
       "    <tr>\n",
       "      <th>Planet</th>\n",
       "      <th></th>\n",
       "      <th></th>\n",
       "      <th></th>\n",
       "    </tr>\n",
       "  </thead>\n",
       "  <tbody>\n",
       "    <tr>\n",
       "      <th>MERCURY</th>\n",
       "      <td>0.3300</td>\n",
       "      <td>4879</td>\n",
       "      <td>4222.6</td>\n",
       "    </tr>\n",
       "    <tr>\n",
       "      <th>VENUS</th>\n",
       "      <td>4.8700</td>\n",
       "      <td>12,104</td>\n",
       "      <td>2802.0</td>\n",
       "    </tr>\n",
       "    <tr>\n",
       "      <th>EARTH</th>\n",
       "      <td>5.9700</td>\n",
       "      <td>12,756</td>\n",
       "      <td>24.0</td>\n",
       "    </tr>\n",
       "    <tr>\n",
       "      <th>MOON</th>\n",
       "      <td>0.0730</td>\n",
       "      <td>3475</td>\n",
       "      <td>708.7</td>\n",
       "    </tr>\n",
       "    <tr>\n",
       "      <th>MARS</th>\n",
       "      <td>0.6420</td>\n",
       "      <td>6792</td>\n",
       "      <td>24.7</td>\n",
       "    </tr>\n",
       "    <tr>\n",
       "      <th>JUPITER</th>\n",
       "      <td>1898.0000</td>\n",
       "      <td>142,984</td>\n",
       "      <td>9.9</td>\n",
       "    </tr>\n",
       "    <tr>\n",
       "      <th>SATURN</th>\n",
       "      <td>568.0000</td>\n",
       "      <td>120,536</td>\n",
       "      <td>10.7</td>\n",
       "    </tr>\n",
       "    <tr>\n",
       "      <th>URANUS</th>\n",
       "      <td>86.8000</td>\n",
       "      <td>51,118</td>\n",
       "      <td>17.2</td>\n",
       "    </tr>\n",
       "    <tr>\n",
       "      <th>NEPTUNE</th>\n",
       "      <td>102.0000</td>\n",
       "      <td>49,528</td>\n",
       "      <td>16.1</td>\n",
       "    </tr>\n",
       "    <tr>\n",
       "      <th>PLUTO</th>\n",
       "      <td>0.0146</td>\n",
       "      <td>2370</td>\n",
       "      <td>153.3</td>\n",
       "    </tr>\n",
       "  </tbody>\n",
       "</table>\n",
       "</div>"
      ],
      "text/plain": [
       "              Mass Diameter  DayLength\n",
       "Planet                                \n",
       "MERCURY     0.3300     4879     4222.6\n",
       "VENUS       4.8700   12,104     2802.0\n",
       "EARTH       5.9700   12,756       24.0\n",
       "MOON        0.0730     3475      708.7\n",
       "MARS        0.6420     6792       24.7\n",
       "JUPITER  1898.0000  142,984        9.9\n",
       "SATURN    568.0000  120,536       10.7\n",
       "URANUS     86.8000   51,118       17.2\n",
       "NEPTUNE   102.0000   49,528       16.1\n",
       "PLUTO       0.0146     2370      153.3"
      ]
     },
     "execution_count": 15,
     "metadata": {},
     "output_type": "execute_result"
    }
   ],
   "source": [
    "planets"
   ]
  },
  {
   "cell_type": "code",
   "execution_count": 16,
   "id": "040b1793",
   "metadata": {},
   "outputs": [
    {
     "name": "stdout",
     "output_type": "stream",
     "text": [
      "<class 'pandas.core.frame.DataFrame'>\n",
      "Index: 10 entries, MERCURY to PLUTO\n",
      "Data columns (total 3 columns):\n",
      " #   Column     Non-Null Count  Dtype  \n",
      "---  ------     --------------  -----  \n",
      " 0   Mass       10 non-null     float64\n",
      " 1   Diameter   10 non-null     object \n",
      " 2   DayLength  10 non-null     float64\n",
      "dtypes: float64(2), object(1)\n",
      "memory usage: 320.0+ bytes\n"
     ]
    }
   ],
   "source": [
    "planets.info()"
   ]
  },
  {
   "cell_type": "code",
   "execution_count": 17,
   "id": "00fe0ca3",
   "metadata": {},
   "outputs": [
    {
     "data": {
      "text/plain": [
       "10"
      ]
     },
     "execution_count": 17,
     "metadata": {},
     "output_type": "execute_result"
    }
   ],
   "source": [
    "len(planets)"
   ]
  },
  {
   "cell_type": "code",
   "execution_count": 18,
   "id": "282a7467",
   "metadata": {},
   "outputs": [
    {
     "data": {
      "text/plain": [
       "Mass           0.33\n",
       "Diameter       4879\n",
       "DayLength    4222.6\n",
       "Name: MERCURY, dtype: object"
      ]
     },
     "execution_count": 18,
     "metadata": {},
     "output_type": "execute_result"
    }
   ],
   "source": [
    "planets.loc['MERCURY']"
   ]
  },
  {
   "cell_type": "code",
   "execution_count": 19,
   "id": "ba99fc4b",
   "metadata": {},
   "outputs": [
    {
     "data": {
      "text/html": [
       "<div>\n",
       "<style scoped>\n",
       "    .dataframe tbody tr th:only-of-type {\n",
       "        vertical-align: middle;\n",
       "    }\n",
       "\n",
       "    .dataframe tbody tr th {\n",
       "        vertical-align: top;\n",
       "    }\n",
       "\n",
       "    .dataframe thead th {\n",
       "        text-align: right;\n",
       "    }\n",
       "</style>\n",
       "<table border=\"1\" class=\"dataframe\">\n",
       "  <thead>\n",
       "    <tr style=\"text-align: right;\">\n",
       "      <th></th>\n",
       "      <th>Mass</th>\n",
       "      <th>Diameter</th>\n",
       "      <th>DayLength</th>\n",
       "    </tr>\n",
       "    <tr>\n",
       "      <th>Planet</th>\n",
       "      <th></th>\n",
       "      <th></th>\n",
       "      <th></th>\n",
       "    </tr>\n",
       "  </thead>\n",
       "  <tbody>\n",
       "    <tr>\n",
       "      <th>MERCURY</th>\n",
       "      <td>0.33</td>\n",
       "      <td>4879</td>\n",
       "      <td>4222.6</td>\n",
       "    </tr>\n",
       "    <tr>\n",
       "      <th>VENUS</th>\n",
       "      <td>4.87</td>\n",
       "      <td>12,104</td>\n",
       "      <td>2802.0</td>\n",
       "    </tr>\n",
       "    <tr>\n",
       "      <th>EARTH</th>\n",
       "      <td>5.97</td>\n",
       "      <td>12,756</td>\n",
       "      <td>24.0</td>\n",
       "    </tr>\n",
       "  </tbody>\n",
       "</table>\n",
       "</div>"
      ],
      "text/plain": [
       "         Mass Diameter  DayLength\n",
       "Planet                           \n",
       "MERCURY  0.33     4879     4222.6\n",
       "VENUS    4.87   12,104     2802.0\n",
       "EARTH    5.97   12,756       24.0"
      ]
     },
     "execution_count": 19,
     "metadata": {},
     "output_type": "execute_result"
    }
   ],
   "source": [
    "planets.loc['MERCURY':'EARTH']"
   ]
  },
  {
   "cell_type": "code",
   "execution_count": 20,
   "id": "9a56e041",
   "metadata": {},
   "outputs": [
    {
     "data": {
      "text/plain": [
       "Index(['Mass', 'Diameter', 'DayLength'], dtype='object')"
      ]
     },
     "execution_count": 20,
     "metadata": {},
     "output_type": "execute_result"
    }
   ],
   "source": [
    "planets.columns"
   ]
  },
  {
   "cell_type": "code",
   "execution_count": 21,
   "id": "d287c2a8",
   "metadata": {},
   "outputs": [],
   "source": [
    "planets = pd.read_csv('Planets.csv')"
   ]
  },
  {
   "cell_type": "code",
   "execution_count": 22,
   "id": "19c089f8",
   "metadata": {},
   "outputs": [],
   "source": [
    "planets.set_index('Planet', inplace=True)"
   ]
  },
  {
   "cell_type": "code",
   "execution_count": 23,
   "id": "fa090540",
   "metadata": {},
   "outputs": [
    {
     "data": {
      "text/plain": [
       "Index(['Mass', 'Diameter', 'DayLength', 'SunDistance', 'OrbitPeriod',\n",
       "       'OrbitVelocity', 'MeanTemperature', 'SurfacePressure', 'Moons', 'Rings',\n",
       "       'MagneticField', 'FirstVisited', 'FirstMission'],\n",
       "      dtype='object')"
      ]
     },
     "execution_count": 23,
     "metadata": {},
     "output_type": "execute_result"
    }
   ],
   "source": [
    "planets.columns"
   ]
  },
  {
   "cell_type": "code",
   "execution_count": 24,
   "id": "9c3789d8",
   "metadata": {},
   "outputs": [
    {
     "data": {
      "text/plain": [
       "'1974-03-29'"
      ]
     },
     "execution_count": 24,
     "metadata": {},
     "output_type": "execute_result"
    }
   ],
   "source": [
    "planets.FirstVisited['MERCURY']"
   ]
  },
  {
   "cell_type": "code",
   "execution_count": 25,
   "id": "b662847f",
   "metadata": {},
   "outputs": [
    {
     "data": {
      "text/plain": [
       "'1974-03-29'"
      ]
     },
     "execution_count": 25,
     "metadata": {},
     "output_type": "execute_result"
    }
   ],
   "source": [
    "planets.loc['MERCURY'].FirstVisited"
   ]
  },
  {
   "cell_type": "code",
   "execution_count": 26,
   "id": "49b5c0cb",
   "metadata": {},
   "outputs": [
    {
     "data": {
      "text/plain": [
       "'1974-03-29'"
      ]
     },
     "execution_count": 26,
     "metadata": {},
     "output_type": "execute_result"
    }
   ],
   "source": [
    "planets.loc['MERCURY','FirstVisited']"
   ]
  },
  {
   "cell_type": "code",
   "execution_count": 27,
   "id": "5526d934",
   "metadata": {},
   "outputs": [
    {
     "data": {
      "text/plain": [
       "str"
      ]
     },
     "execution_count": 27,
     "metadata": {},
     "output_type": "execute_result"
    }
   ],
   "source": [
    "type(planets.loc['MERCURY','FirstVisited'])"
   ]
  },
  {
   "cell_type": "code",
   "execution_count": 28,
   "id": "4cd05378",
   "metadata": {},
   "outputs": [
    {
     "data": {
      "text/plain": [
       "Planet\n",
       "MERCURY   1974-03-29\n",
       "VENUS     1962-08-27\n",
       "EARTH            NaT\n",
       "MOON      1959-09-12\n",
       "MARS      1965-07-15\n",
       "JUPITER   1973-12-04\n",
       "SATURN    1979-09-01\n",
       "URANUS    1986-01-24\n",
       "NEPTUNE   1989-08-25\n",
       "PLUTO     2015-07-14\n",
       "Name: FirstVisited, dtype: datetime64[ns]"
      ]
     },
     "execution_count": 28,
     "metadata": {},
     "output_type": "execute_result"
    }
   ],
   "source": [
    "pd.to_datetime(planets.FirstVisited)"
   ]
  },
  {
   "cell_type": "code",
   "execution_count": 29,
   "id": "a8520dde",
   "metadata": {},
   "outputs": [],
   "source": [
    "planets.FirstVisited = pd.to_datetime(planets.FirstVisited)"
   ]
  },
  {
   "cell_type": "code",
   "execution_count": 30,
   "id": "1806427e",
   "metadata": {},
   "outputs": [
    {
     "data": {
      "text/plain": [
       "Planet\n",
       "MERCURY    1974.0\n",
       "VENUS      1962.0\n",
       "EARTH         NaN\n",
       "MOON       1959.0\n",
       "MARS       1965.0\n",
       "JUPITER    1973.0\n",
       "SATURN     1979.0\n",
       "URANUS     1986.0\n",
       "NEPTUNE    1989.0\n",
       "PLUTO      2015.0\n",
       "Name: FirstVisited, dtype: float64"
      ]
     },
     "execution_count": 30,
     "metadata": {},
     "output_type": "execute_result"
    }
   ],
   "source": [
    "planets.FirstVisited.dt.year"
   ]
  },
  {
   "cell_type": "code",
   "execution_count": 31,
   "id": "c67499bc",
   "metadata": {
    "scrolled": true
   },
   "outputs": [
    {
     "data": {
      "text/plain": [
       "Planet\n",
       "MERCURY    44.0\n",
       "VENUS      56.0\n",
       "EARTH       NaN\n",
       "MOON       59.0\n",
       "MARS       53.0\n",
       "JUPITER    45.0\n",
       "SATURN     39.0\n",
       "URANUS     32.0\n",
       "NEPTUNE    29.0\n",
       "PLUTO       3.0\n",
       "Name: FirstVisited, dtype: float64"
      ]
     },
     "execution_count": 31,
     "metadata": {},
     "output_type": "execute_result"
    }
   ],
   "source": [
    "2018 - planets.FirstVisited.dt.year"
   ]
  },
  {
   "cell_type": "markdown",
   "id": "97746070",
   "metadata": {},
   "source": [
    "### Cleaning Data"
   ]
  },
  {
   "cell_type": "code",
   "execution_count": 32,
   "id": "a5861654",
   "metadata": {},
   "outputs": [],
   "source": [
    "billboard = pd.read_csv('billboard.csv', encoding='latin-1')"
   ]
  },
  {
   "cell_type": "code",
   "execution_count": 33,
   "id": "f97d2670",
   "metadata": {},
   "outputs": [
    {
     "data": {
      "text/html": [
       "<div>\n",
       "<style scoped>\n",
       "    .dataframe tbody tr th:only-of-type {\n",
       "        vertical-align: middle;\n",
       "    }\n",
       "\n",
       "    .dataframe tbody tr th {\n",
       "        vertical-align: top;\n",
       "    }\n",
       "\n",
       "    .dataframe thead th {\n",
       "        text-align: right;\n",
       "    }\n",
       "</style>\n",
       "<table border=\"1\" class=\"dataframe\">\n",
       "  <thead>\n",
       "    <tr style=\"text-align: right;\">\n",
       "      <th></th>\n",
       "      <th>year</th>\n",
       "      <th>artist.inverted</th>\n",
       "      <th>track</th>\n",
       "      <th>time</th>\n",
       "      <th>genre</th>\n",
       "      <th>date.entered</th>\n",
       "      <th>date.peaked</th>\n",
       "      <th>x1st.week</th>\n",
       "      <th>x2nd.week</th>\n",
       "      <th>x3rd.week</th>\n",
       "      <th>...</th>\n",
       "      <th>x67th.week</th>\n",
       "      <th>x68th.week</th>\n",
       "      <th>x69th.week</th>\n",
       "      <th>x70th.week</th>\n",
       "      <th>x71st.week</th>\n",
       "      <th>x72nd.week</th>\n",
       "      <th>x73rd.week</th>\n",
       "      <th>x74th.week</th>\n",
       "      <th>x75th.week</th>\n",
       "      <th>x76th.week</th>\n",
       "    </tr>\n",
       "  </thead>\n",
       "  <tbody>\n",
       "    <tr>\n",
       "      <th>0</th>\n",
       "      <td>2000</td>\n",
       "      <td>Destiny's Child</td>\n",
       "      <td>Independent Women Part I</td>\n",
       "      <td>3:38</td>\n",
       "      <td>Rock</td>\n",
       "      <td>9/23/2000</td>\n",
       "      <td>11/18/2000</td>\n",
       "      <td>78</td>\n",
       "      <td>63.0</td>\n",
       "      <td>49.0</td>\n",
       "      <td>...</td>\n",
       "      <td>NaN</td>\n",
       "      <td>NaN</td>\n",
       "      <td>NaN</td>\n",
       "      <td>NaN</td>\n",
       "      <td>NaN</td>\n",
       "      <td>NaN</td>\n",
       "      <td>NaN</td>\n",
       "      <td>NaN</td>\n",
       "      <td>NaN</td>\n",
       "      <td>NaN</td>\n",
       "    </tr>\n",
       "    <tr>\n",
       "      <th>1</th>\n",
       "      <td>2000</td>\n",
       "      <td>Santana</td>\n",
       "      <td>Maria, Maria</td>\n",
       "      <td>4:18</td>\n",
       "      <td>Rock</td>\n",
       "      <td>2/12/2000</td>\n",
       "      <td>4/8/2000</td>\n",
       "      <td>15</td>\n",
       "      <td>8.0</td>\n",
       "      <td>6.0</td>\n",
       "      <td>...</td>\n",
       "      <td>NaN</td>\n",
       "      <td>NaN</td>\n",
       "      <td>NaN</td>\n",
       "      <td>NaN</td>\n",
       "      <td>NaN</td>\n",
       "      <td>NaN</td>\n",
       "      <td>NaN</td>\n",
       "      <td>NaN</td>\n",
       "      <td>NaN</td>\n",
       "      <td>NaN</td>\n",
       "    </tr>\n",
       "    <tr>\n",
       "      <th>2</th>\n",
       "      <td>2000</td>\n",
       "      <td>Savage Garden</td>\n",
       "      <td>I Knew I Loved You</td>\n",
       "      <td>4:07</td>\n",
       "      <td>Rock</td>\n",
       "      <td>10/23/1999</td>\n",
       "      <td>1/29/2000</td>\n",
       "      <td>71</td>\n",
       "      <td>48.0</td>\n",
       "      <td>43.0</td>\n",
       "      <td>...</td>\n",
       "      <td>NaN</td>\n",
       "      <td>NaN</td>\n",
       "      <td>NaN</td>\n",
       "      <td>NaN</td>\n",
       "      <td>NaN</td>\n",
       "      <td>NaN</td>\n",
       "      <td>NaN</td>\n",
       "      <td>NaN</td>\n",
       "      <td>NaN</td>\n",
       "      <td>NaN</td>\n",
       "    </tr>\n",
       "    <tr>\n",
       "      <th>3</th>\n",
       "      <td>2000</td>\n",
       "      <td>Madonna</td>\n",
       "      <td>Music</td>\n",
       "      <td>3:45</td>\n",
       "      <td>Rock</td>\n",
       "      <td>8/12/2000</td>\n",
       "      <td>9/16/2000</td>\n",
       "      <td>41</td>\n",
       "      <td>23.0</td>\n",
       "      <td>18.0</td>\n",
       "      <td>...</td>\n",
       "      <td>NaN</td>\n",
       "      <td>NaN</td>\n",
       "      <td>NaN</td>\n",
       "      <td>NaN</td>\n",
       "      <td>NaN</td>\n",
       "      <td>NaN</td>\n",
       "      <td>NaN</td>\n",
       "      <td>NaN</td>\n",
       "      <td>NaN</td>\n",
       "      <td>NaN</td>\n",
       "    </tr>\n",
       "    <tr>\n",
       "      <th>4</th>\n",
       "      <td>2000</td>\n",
       "      <td>Aguilera, Christina</td>\n",
       "      <td>Come On Over Baby (All I Want Is You)</td>\n",
       "      <td>3:38</td>\n",
       "      <td>Rock</td>\n",
       "      <td>8/5/2000</td>\n",
       "      <td>10/14/2000</td>\n",
       "      <td>57</td>\n",
       "      <td>47.0</td>\n",
       "      <td>45.0</td>\n",
       "      <td>...</td>\n",
       "      <td>NaN</td>\n",
       "      <td>NaN</td>\n",
       "      <td>NaN</td>\n",
       "      <td>NaN</td>\n",
       "      <td>NaN</td>\n",
       "      <td>NaN</td>\n",
       "      <td>NaN</td>\n",
       "      <td>NaN</td>\n",
       "      <td>NaN</td>\n",
       "      <td>NaN</td>\n",
       "    </tr>\n",
       "  </tbody>\n",
       "</table>\n",
       "<p>5 rows × 83 columns</p>\n",
       "</div>"
      ],
      "text/plain": [
       "   year      artist.inverted                                  track  time  \\\n",
       "0  2000      Destiny's Child               Independent Women Part I  3:38   \n",
       "1  2000              Santana                           Maria, Maria  4:18   \n",
       "2  2000        Savage Garden                     I Knew I Loved You  4:07   \n",
       "3  2000              Madonna                                  Music  3:45   \n",
       "4  2000  Aguilera, Christina  Come On Over Baby (All I Want Is You)  3:38   \n",
       "\n",
       "  genre date.entered date.peaked  x1st.week  x2nd.week  x3rd.week  ...  \\\n",
       "0  Rock    9/23/2000  11/18/2000         78       63.0       49.0  ...   \n",
       "1  Rock    2/12/2000    4/8/2000         15        8.0        6.0  ...   \n",
       "2  Rock   10/23/1999   1/29/2000         71       48.0       43.0  ...   \n",
       "3  Rock    8/12/2000   9/16/2000         41       23.0       18.0  ...   \n",
       "4  Rock     8/5/2000  10/14/2000         57       47.0       45.0  ...   \n",
       "\n",
       "   x67th.week  x68th.week  x69th.week  x70th.week  x71st.week  x72nd.week  \\\n",
       "0         NaN         NaN         NaN         NaN         NaN         NaN   \n",
       "1         NaN         NaN         NaN         NaN         NaN         NaN   \n",
       "2         NaN         NaN         NaN         NaN         NaN         NaN   \n",
       "3         NaN         NaN         NaN         NaN         NaN         NaN   \n",
       "4         NaN         NaN         NaN         NaN         NaN         NaN   \n",
       "\n",
       "   x73rd.week  x74th.week  x75th.week  x76th.week  \n",
       "0         NaN         NaN         NaN         NaN  \n",
       "1         NaN         NaN         NaN         NaN  \n",
       "2         NaN         NaN         NaN         NaN  \n",
       "3         NaN         NaN         NaN         NaN  \n",
       "4         NaN         NaN         NaN         NaN  \n",
       "\n",
       "[5 rows x 83 columns]"
      ]
     },
     "execution_count": 33,
     "metadata": {},
     "output_type": "execute_result"
    }
   ],
   "source": [
    "billboard.head()"
   ]
  },
  {
   "cell_type": "code",
   "execution_count": 34,
   "id": "d0bcc91b",
   "metadata": {},
   "outputs": [
    {
     "data": {
      "text/plain": [
       "Index(['year', 'artist.inverted', 'track', 'time', 'genre', 'date.entered',\n",
       "       'date.peaked', 'x1st.week', 'x2nd.week', 'x3rd.week', 'x4th.week',\n",
       "       'x5th.week', 'x6th.week', 'x7th.week', 'x8th.week', 'x9th.week',\n",
       "       'x10th.week', 'x11th.week', 'x12th.week', 'x13th.week', 'x14th.week',\n",
       "       'x15th.week', 'x16th.week', 'x17th.week', 'x18th.week', 'x19th.week',\n",
       "       'x20th.week', 'x21st.week', 'x22nd.week', 'x23rd.week', 'x24th.week',\n",
       "       'x25th.week', 'x26th.week', 'x27th.week', 'x28th.week', 'x29th.week',\n",
       "       'x30th.week', 'x31st.week', 'x32nd.week', 'x33rd.week', 'x34th.week',\n",
       "       'x35th.week', 'x36th.week', 'x37th.week', 'x38th.week', 'x39th.week',\n",
       "       'x40th.week', 'x41st.week', 'x42nd.week', 'x43rd.week', 'x44th.week',\n",
       "       'x45th.week', 'x46th.week', 'x47th.week', 'x48th.week', 'x49th.week',\n",
       "       'x50th.week', 'x51st.week', 'x52nd.week', 'x53rd.week', 'x54th.week',\n",
       "       'x55th.week', 'x56th.week', 'x57th.week', 'x58th.week', 'x59th.week',\n",
       "       'x60th.week', 'x61st.week', 'x62nd.week', 'x63rd.week', 'x64th.week',\n",
       "       'x65th.week', 'x66th.week', 'x67th.week', 'x68th.week', 'x69th.week',\n",
       "       'x70th.week', 'x71st.week', 'x72nd.week', 'x73rd.week', 'x74th.week',\n",
       "       'x75th.week', 'x76th.week'],\n",
       "      dtype='object')"
      ]
     },
     "execution_count": 34,
     "metadata": {},
     "output_type": "execute_result"
    }
   ],
   "source": [
    "billboard.columns"
   ]
  },
  {
   "cell_type": "code",
   "execution_count": 35,
   "id": "1984fbc6",
   "metadata": {},
   "outputs": [
    {
     "data": {
      "text/plain": [
       "[<matplotlib.lines.Line2D at 0x265095fa910>]"
      ]
     },
     "execution_count": 35,
     "metadata": {},
     "output_type": "execute_result"
    },
    {
     "data": {
      "image/png": "[encoded data removed]",
      "text/plain": [
       "<Figure size 432x288 with 1 Axes>"
      ]
     },
     "metadata": {
      "needs_background": "light"
     },
     "output_type": "display_data"
    }
   ],
   "source": [
    "pp.plot(billboard.loc[0,'x1st.week':'x76th.week'])"
   ]
  },
  {
   "cell_type": "code",
   "execution_count": 36,
   "id": "dec92859",
   "metadata": {},
   "outputs": [
    {
     "data": {
      "image/png": "[encoded data removed]",
      "text/plain": [
       "<Figure size 432x288 with 1 Axes>"
      ]
     },
     "metadata": {
      "needs_background": "light"
     },
     "output_type": "display_data"
    }
   ],
   "source": [
    "for index, row in billboard.iterrows():\n",
    "    pp.plot(range(1,77), row['x1st.week':'x76th.week'], color='C0', alpha=0.1)"
   ]
  },
  {
   "cell_type": "code",
   "execution_count": 37,
   "id": "2d49bd54",
   "metadata": {},
   "outputs": [
    {
     "data": {
      "text/html": [
       "<div>\n",
       "<style scoped>\n",
       "    .dataframe tbody tr th:only-of-type {\n",
       "        vertical-align: middle;\n",
       "    }\n",
       "\n",
       "    .dataframe tbody tr th {\n",
       "        vertical-align: top;\n",
       "    }\n",
       "\n",
       "    .dataframe thead th {\n",
       "        text-align: right;\n",
       "    }\n",
       "</style>\n",
       "<table border=\"1\" class=\"dataframe\">\n",
       "  <thead>\n",
       "    <tr style=\"text-align: right;\">\n",
       "      <th></th>\n",
       "      <th>artist.inverted</th>\n",
       "      <th>track</th>\n",
       "      <th>time</th>\n",
       "      <th>date.entered</th>\n",
       "      <th>x1st.week</th>\n",
       "      <th>x2nd.week</th>\n",
       "      <th>x3rd.week</th>\n",
       "    </tr>\n",
       "  </thead>\n",
       "  <tbody>\n",
       "    <tr>\n",
       "      <th>0</th>\n",
       "      <td>Destiny's Child</td>\n",
       "      <td>Independent Women Part I</td>\n",
       "      <td>3:38</td>\n",
       "      <td>9/23/2000</td>\n",
       "      <td>78</td>\n",
       "      <td>63.0</td>\n",
       "      <td>49.0</td>\n",
       "    </tr>\n",
       "    <tr>\n",
       "      <th>1</th>\n",
       "      <td>Santana</td>\n",
       "      <td>Maria, Maria</td>\n",
       "      <td>4:18</td>\n",
       "      <td>2/12/2000</td>\n",
       "      <td>15</td>\n",
       "      <td>8.0</td>\n",
       "      <td>6.0</td>\n",
       "    </tr>\n",
       "    <tr>\n",
       "      <th>2</th>\n",
       "      <td>Savage Garden</td>\n",
       "      <td>I Knew I Loved You</td>\n",
       "      <td>4:07</td>\n",
       "      <td>10/23/1999</td>\n",
       "      <td>71</td>\n",
       "      <td>48.0</td>\n",
       "      <td>43.0</td>\n",
       "    </tr>\n",
       "    <tr>\n",
       "      <th>3</th>\n",
       "      <td>Madonna</td>\n",
       "      <td>Music</td>\n",
       "      <td>3:45</td>\n",
       "      <td>8/12/2000</td>\n",
       "      <td>41</td>\n",
       "      <td>23.0</td>\n",
       "      <td>18.0</td>\n",
       "    </tr>\n",
       "    <tr>\n",
       "      <th>4</th>\n",
       "      <td>Aguilera, Christina</td>\n",
       "      <td>Come On Over Baby (All I Want Is You)</td>\n",
       "      <td>3:38</td>\n",
       "      <td>8/5/2000</td>\n",
       "      <td>57</td>\n",
       "      <td>47.0</td>\n",
       "      <td>45.0</td>\n",
       "    </tr>\n",
       "  </tbody>\n",
       "</table>\n",
       "</div>"
      ],
      "text/plain": [
       "       artist.inverted                                  track  time  \\\n",
       "0      Destiny's Child               Independent Women Part I  3:38   \n",
       "1              Santana                           Maria, Maria  4:18   \n",
       "2        Savage Garden                     I Knew I Loved You  4:07   \n",
       "3              Madonna                                  Music  3:45   \n",
       "4  Aguilera, Christina  Come On Over Baby (All I Want Is You)  3:38   \n",
       "\n",
       "  date.entered  x1st.week  x2nd.week  x3rd.week  \n",
       "0    9/23/2000         78       63.0       49.0  \n",
       "1    2/12/2000         15        8.0        6.0  \n",
       "2   10/23/1999         71       48.0       43.0  \n",
       "3    8/12/2000         41       23.0       18.0  \n",
       "4     8/5/2000         57       47.0       45.0  "
      ]
     },
     "execution_count": 37,
     "metadata": {},
     "output_type": "execute_result"
    }
   ],
   "source": [
    "bshort = billboard[['artist.inverted', 'track', 'time', 'date.entered', 'x1st.week', 'x2nd.week', 'x3rd.week']]\n",
    "bshort.head()"
   ]
  },
  {
   "cell_type": "code",
   "execution_count": 38,
   "id": "2408e728",
   "metadata": {},
   "outputs": [
    {
     "data": {
      "text/html": [
       "<div>\n",
       "<style scoped>\n",
       "    .dataframe tbody tr th:only-of-type {\n",
       "        vertical-align: middle;\n",
       "    }\n",
       "\n",
       "    .dataframe tbody tr th {\n",
       "        vertical-align: top;\n",
       "    }\n",
       "\n",
       "    .dataframe thead th {\n",
       "        text-align: right;\n",
       "    }\n",
       "</style>\n",
       "<table border=\"1\" class=\"dataframe\">\n",
       "  <thead>\n",
       "    <tr style=\"text-align: right;\">\n",
       "      <th></th>\n",
       "      <th>artist</th>\n",
       "      <th>track</th>\n",
       "      <th>time</th>\n",
       "      <th>date_entered</th>\n",
       "      <th>wk1</th>\n",
       "      <th>wk2</th>\n",
       "      <th>wk3</th>\n",
       "    </tr>\n",
       "  </thead>\n",
       "  <tbody>\n",
       "    <tr>\n",
       "      <th>0</th>\n",
       "      <td>Destiny's Child</td>\n",
       "      <td>Independent Women Part I</td>\n",
       "      <td>3:38</td>\n",
       "      <td>9/23/2000</td>\n",
       "      <td>78</td>\n",
       "      <td>63.0</td>\n",
       "      <td>49.0</td>\n",
       "    </tr>\n",
       "    <tr>\n",
       "      <th>1</th>\n",
       "      <td>Santana</td>\n",
       "      <td>Maria, Maria</td>\n",
       "      <td>4:18</td>\n",
       "      <td>2/12/2000</td>\n",
       "      <td>15</td>\n",
       "      <td>8.0</td>\n",
       "      <td>6.0</td>\n",
       "    </tr>\n",
       "    <tr>\n",
       "      <th>2</th>\n",
       "      <td>Savage Garden</td>\n",
       "      <td>I Knew I Loved You</td>\n",
       "      <td>4:07</td>\n",
       "      <td>10/23/1999</td>\n",
       "      <td>71</td>\n",
       "      <td>48.0</td>\n",
       "      <td>43.0</td>\n",
       "    </tr>\n",
       "    <tr>\n",
       "      <th>3</th>\n",
       "      <td>Madonna</td>\n",
       "      <td>Music</td>\n",
       "      <td>3:45</td>\n",
       "      <td>8/12/2000</td>\n",
       "      <td>41</td>\n",
       "      <td>23.0</td>\n",
       "      <td>18.0</td>\n",
       "    </tr>\n",
       "    <tr>\n",
       "      <th>4</th>\n",
       "      <td>Aguilera, Christina</td>\n",
       "      <td>Come On Over Baby (All I Want Is You)</td>\n",
       "      <td>3:38</td>\n",
       "      <td>8/5/2000</td>\n",
       "      <td>57</td>\n",
       "      <td>47.0</td>\n",
       "      <td>45.0</td>\n",
       "    </tr>\n",
       "  </tbody>\n",
       "</table>\n",
       "</div>"
      ],
      "text/plain": [
       "                artist                                  track  time  \\\n",
       "0      Destiny's Child               Independent Women Part I  3:38   \n",
       "1              Santana                           Maria, Maria  4:18   \n",
       "2        Savage Garden                     I Knew I Loved You  4:07   \n",
       "3              Madonna                                  Music  3:45   \n",
       "4  Aguilera, Christina  Come On Over Baby (All I Want Is You)  3:38   \n",
       "\n",
       "  date_entered  wk1   wk2   wk3  \n",
       "0    9/23/2000   78  63.0  49.0  \n",
       "1    2/12/2000   15   8.0   6.0  \n",
       "2   10/23/1999   71  48.0  43.0  \n",
       "3    8/12/2000   41  23.0  18.0  \n",
       "4     8/5/2000   57  47.0  45.0  "
      ]
     },
     "execution_count": 38,
     "metadata": {},
     "output_type": "execute_result"
    }
   ],
   "source": [
    "bshort.columns = ['artist','track','time','date_entered', 'wk1', 'wk2', 'wk3']\n",
    "bshort.head()"
   ]
  },
  {
   "cell_type": "code",
   "execution_count": 39,
   "id": "e48e8b78",
   "metadata": {},
   "outputs": [
    {
     "data": {
      "text/html": [
       "<div>\n",
       "<style scoped>\n",
       "    .dataframe tbody tr th:only-of-type {\n",
       "        vertical-align: middle;\n",
       "    }\n",
       "\n",
       "    .dataframe tbody tr th {\n",
       "        vertical-align: top;\n",
       "    }\n",
       "\n",
       "    .dataframe thead th {\n",
       "        text-align: right;\n",
       "    }\n",
       "</style>\n",
       "<table border=\"1\" class=\"dataframe\">\n",
       "  <thead>\n",
       "    <tr style=\"text-align: right;\">\n",
       "      <th></th>\n",
       "      <th>artist</th>\n",
       "      <th>track</th>\n",
       "      <th>time</th>\n",
       "      <th>date_entered</th>\n",
       "      <th>week</th>\n",
       "      <th>rank</th>\n",
       "    </tr>\n",
       "  </thead>\n",
       "  <tbody>\n",
       "    <tr>\n",
       "      <th>0</th>\n",
       "      <td>Destiny's Child</td>\n",
       "      <td>Independent Women Part I</td>\n",
       "      <td>3:38</td>\n",
       "      <td>9/23/2000</td>\n",
       "      <td>wk1</td>\n",
       "      <td>78.0</td>\n",
       "    </tr>\n",
       "    <tr>\n",
       "      <th>1</th>\n",
       "      <td>Santana</td>\n",
       "      <td>Maria, Maria</td>\n",
       "      <td>4:18</td>\n",
       "      <td>2/12/2000</td>\n",
       "      <td>wk1</td>\n",
       "      <td>15.0</td>\n",
       "    </tr>\n",
       "    <tr>\n",
       "      <th>2</th>\n",
       "      <td>Savage Garden</td>\n",
       "      <td>I Knew I Loved You</td>\n",
       "      <td>4:07</td>\n",
       "      <td>10/23/1999</td>\n",
       "      <td>wk1</td>\n",
       "      <td>71.0</td>\n",
       "    </tr>\n",
       "    <tr>\n",
       "      <th>3</th>\n",
       "      <td>Madonna</td>\n",
       "      <td>Music</td>\n",
       "      <td>3:45</td>\n",
       "      <td>8/12/2000</td>\n",
       "      <td>wk1</td>\n",
       "      <td>41.0</td>\n",
       "    </tr>\n",
       "    <tr>\n",
       "      <th>4</th>\n",
       "      <td>Aguilera, Christina</td>\n",
       "      <td>Come On Over Baby (All I Want Is You)</td>\n",
       "      <td>3:38</td>\n",
       "      <td>8/5/2000</td>\n",
       "      <td>wk1</td>\n",
       "      <td>57.0</td>\n",
       "    </tr>\n",
       "  </tbody>\n",
       "</table>\n",
       "</div>"
      ],
      "text/plain": [
       "                artist                                  track  time  \\\n",
       "0      Destiny's Child               Independent Women Part I  3:38   \n",
       "1              Santana                           Maria, Maria  4:18   \n",
       "2        Savage Garden                     I Knew I Loved You  4:07   \n",
       "3              Madonna                                  Music  3:45   \n",
       "4  Aguilera, Christina  Come On Over Baby (All I Want Is You)  3:38   \n",
       "\n",
       "  date_entered week  rank  \n",
       "0    9/23/2000  wk1  78.0  \n",
       "1    2/12/2000  wk1  15.0  \n",
       "2   10/23/1999  wk1  71.0  \n",
       "3    8/12/2000  wk1  41.0  \n",
       "4     8/5/2000  wk1  57.0  "
      ]
     },
     "execution_count": 39,
     "metadata": {},
     "output_type": "execute_result"
    }
   ],
   "source": [
    "bmelt = bshort.melt(['artist','track','time','date_entered'],['wk1','wk2','wk3'],'week','rank')\n",
    "bmelt.head()"
   ]
  },
  {
   "cell_type": "code",
   "execution_count": 40,
   "id": "8b10f8a4",
   "metadata": {},
   "outputs": [
    {
     "data": {
      "text/html": [
       "<div>\n",
       "<style scoped>\n",
       "    .dataframe tbody tr th:only-of-type {\n",
       "        vertical-align: middle;\n",
       "    }\n",
       "\n",
       "    .dataframe tbody tr th {\n",
       "        vertical-align: top;\n",
       "    }\n",
       "\n",
       "    .dataframe thead th {\n",
       "        text-align: right;\n",
       "    }\n",
       "</style>\n",
       "<table border=\"1\" class=\"dataframe\">\n",
       "  <thead>\n",
       "    <tr style=\"text-align: right;\">\n",
       "      <th></th>\n",
       "      <th>artist</th>\n",
       "      <th>track</th>\n",
       "      <th>time</th>\n",
       "      <th>date_entered</th>\n",
       "      <th>week</th>\n",
       "      <th>rank</th>\n",
       "    </tr>\n",
       "  </thead>\n",
       "  <tbody>\n",
       "    <tr>\n",
       "      <th>66</th>\n",
       "      <td>Profyle</td>\n",
       "      <td>Liar</td>\n",
       "      <td>3:57</td>\n",
       "      <td>9/16/2000</td>\n",
       "      <td>wk1</td>\n",
       "      <td>52.0</td>\n",
       "    </tr>\n",
       "    <tr>\n",
       "      <th>383</th>\n",
       "      <td>Profyle</td>\n",
       "      <td>Liar</td>\n",
       "      <td>3:57</td>\n",
       "      <td>9/16/2000</td>\n",
       "      <td>wk2</td>\n",
       "      <td>32.0</td>\n",
       "    </tr>\n",
       "    <tr>\n",
       "      <th>700</th>\n",
       "      <td>Profyle</td>\n",
       "      <td>Liar</td>\n",
       "      <td>3:57</td>\n",
       "      <td>9/16/2000</td>\n",
       "      <td>wk3</td>\n",
       "      <td>25.0</td>\n",
       "    </tr>\n",
       "  </tbody>\n",
       "</table>\n",
       "</div>"
      ],
      "text/plain": [
       "      artist track  time date_entered week  rank\n",
       "66   Profyle  Liar  3:57    9/16/2000  wk1  52.0\n",
       "383  Profyle  Liar  3:57    9/16/2000  wk2  32.0\n",
       "700  Profyle  Liar  3:57    9/16/2000  wk3  25.0"
      ]
     },
     "execution_count": 40,
     "metadata": {},
     "output_type": "execute_result"
    }
   ],
   "source": [
    "bmelt.query('track == \"Liar\"')"
   ]
  },
  {
   "cell_type": "markdown",
   "id": "75eba5e0",
   "metadata": {},
   "source": [
    "#### Example: Cleaning Data"
   ]
  },
  {
   "cell_type": "code",
   "execution_count": 41,
   "id": "338baa8a",
   "metadata": {},
   "outputs": [
    {
     "data": {
      "text/html": [
       "<div>\n",
       "<style scoped>\n",
       "    .dataframe tbody tr th:only-of-type {\n",
       "        vertical-align: middle;\n",
       "    }\n",
       "\n",
       "    .dataframe tbody tr th {\n",
       "        vertical-align: top;\n",
       "    }\n",
       "\n",
       "    .dataframe thead th {\n",
       "        text-align: right;\n",
       "    }\n",
       "</style>\n",
       "<table border=\"1\" class=\"dataframe\">\n",
       "  <thead>\n",
       "    <tr style=\"text-align: right;\">\n",
       "      <th></th>\n",
       "      <th>country</th>\n",
       "      <th>year</th>\n",
       "      <th>m04</th>\n",
       "      <th>m514</th>\n",
       "      <th>m014</th>\n",
       "      <th>m1524</th>\n",
       "      <th>m2534</th>\n",
       "      <th>m3544</th>\n",
       "      <th>m4554</th>\n",
       "      <th>m5564</th>\n",
       "      <th>...</th>\n",
       "      <th>f04</th>\n",
       "      <th>f514</th>\n",
       "      <th>f014</th>\n",
       "      <th>f1524</th>\n",
       "      <th>f2534</th>\n",
       "      <th>f3544</th>\n",
       "      <th>f4554</th>\n",
       "      <th>f5564</th>\n",
       "      <th>f65</th>\n",
       "      <th>fu</th>\n",
       "    </tr>\n",
       "  </thead>\n",
       "  <tbody>\n",
       "    <tr>\n",
       "      <th>0</th>\n",
       "      <td>AD</td>\n",
       "      <td>1989</td>\n",
       "      <td>NaN</td>\n",
       "      <td>NaN</td>\n",
       "      <td>NaN</td>\n",
       "      <td>NaN</td>\n",
       "      <td>NaN</td>\n",
       "      <td>NaN</td>\n",
       "      <td>NaN</td>\n",
       "      <td>NaN</td>\n",
       "      <td>...</td>\n",
       "      <td>NaN</td>\n",
       "      <td>NaN</td>\n",
       "      <td>NaN</td>\n",
       "      <td>NaN</td>\n",
       "      <td>NaN</td>\n",
       "      <td>NaN</td>\n",
       "      <td>NaN</td>\n",
       "      <td>NaN</td>\n",
       "      <td>NaN</td>\n",
       "      <td>NaN</td>\n",
       "    </tr>\n",
       "    <tr>\n",
       "      <th>1</th>\n",
       "      <td>AD</td>\n",
       "      <td>1990</td>\n",
       "      <td>NaN</td>\n",
       "      <td>NaN</td>\n",
       "      <td>NaN</td>\n",
       "      <td>NaN</td>\n",
       "      <td>NaN</td>\n",
       "      <td>NaN</td>\n",
       "      <td>NaN</td>\n",
       "      <td>NaN</td>\n",
       "      <td>...</td>\n",
       "      <td>NaN</td>\n",
       "      <td>NaN</td>\n",
       "      <td>NaN</td>\n",
       "      <td>NaN</td>\n",
       "      <td>NaN</td>\n",
       "      <td>NaN</td>\n",
       "      <td>NaN</td>\n",
       "      <td>NaN</td>\n",
       "      <td>NaN</td>\n",
       "      <td>NaN</td>\n",
       "    </tr>\n",
       "    <tr>\n",
       "      <th>2</th>\n",
       "      <td>AD</td>\n",
       "      <td>1991</td>\n",
       "      <td>NaN</td>\n",
       "      <td>NaN</td>\n",
       "      <td>NaN</td>\n",
       "      <td>NaN</td>\n",
       "      <td>NaN</td>\n",
       "      <td>NaN</td>\n",
       "      <td>NaN</td>\n",
       "      <td>NaN</td>\n",
       "      <td>...</td>\n",
       "      <td>NaN</td>\n",
       "      <td>NaN</td>\n",
       "      <td>NaN</td>\n",
       "      <td>NaN</td>\n",
       "      <td>NaN</td>\n",
       "      <td>NaN</td>\n",
       "      <td>NaN</td>\n",
       "      <td>NaN</td>\n",
       "      <td>NaN</td>\n",
       "      <td>NaN</td>\n",
       "    </tr>\n",
       "    <tr>\n",
       "      <th>3</th>\n",
       "      <td>AD</td>\n",
       "      <td>1992</td>\n",
       "      <td>NaN</td>\n",
       "      <td>NaN</td>\n",
       "      <td>NaN</td>\n",
       "      <td>NaN</td>\n",
       "      <td>NaN</td>\n",
       "      <td>NaN</td>\n",
       "      <td>NaN</td>\n",
       "      <td>NaN</td>\n",
       "      <td>...</td>\n",
       "      <td>NaN</td>\n",
       "      <td>NaN</td>\n",
       "      <td>NaN</td>\n",
       "      <td>NaN</td>\n",
       "      <td>NaN</td>\n",
       "      <td>NaN</td>\n",
       "      <td>NaN</td>\n",
       "      <td>NaN</td>\n",
       "      <td>NaN</td>\n",
       "      <td>NaN</td>\n",
       "    </tr>\n",
       "    <tr>\n",
       "      <th>4</th>\n",
       "      <td>AD</td>\n",
       "      <td>1993</td>\n",
       "      <td>NaN</td>\n",
       "      <td>NaN</td>\n",
       "      <td>NaN</td>\n",
       "      <td>NaN</td>\n",
       "      <td>NaN</td>\n",
       "      <td>NaN</td>\n",
       "      <td>NaN</td>\n",
       "      <td>NaN</td>\n",
       "      <td>...</td>\n",
       "      <td>NaN</td>\n",
       "      <td>NaN</td>\n",
       "      <td>NaN</td>\n",
       "      <td>NaN</td>\n",
       "      <td>NaN</td>\n",
       "      <td>NaN</td>\n",
       "      <td>NaN</td>\n",
       "      <td>NaN</td>\n",
       "      <td>NaN</td>\n",
       "      <td>NaN</td>\n",
       "    </tr>\n",
       "  </tbody>\n",
       "</table>\n",
       "<p>5 rows × 22 columns</p>\n",
       "</div>"
      ],
      "text/plain": [
       "  country  year  m04  m514  m014  m1524  m2534  m3544  m4554  m5564  ...  f04  \\\n",
       "0      AD  1989  NaN   NaN   NaN    NaN    NaN    NaN    NaN    NaN  ...  NaN   \n",
       "1      AD  1990  NaN   NaN   NaN    NaN    NaN    NaN    NaN    NaN  ...  NaN   \n",
       "2      AD  1991  NaN   NaN   NaN    NaN    NaN    NaN    NaN    NaN  ...  NaN   \n",
       "3      AD  1992  NaN   NaN   NaN    NaN    NaN    NaN    NaN    NaN  ...  NaN   \n",
       "4      AD  1993  NaN   NaN   NaN    NaN    NaN    NaN    NaN    NaN  ...  NaN   \n",
       "\n",
       "   f514  f014  f1524  f2534  f3544  f4554  f5564  f65  fu  \n",
       "0   NaN   NaN    NaN    NaN    NaN    NaN    NaN  NaN NaN  \n",
       "1   NaN   NaN    NaN    NaN    NaN    NaN    NaN  NaN NaN  \n",
       "2   NaN   NaN    NaN    NaN    NaN    NaN    NaN  NaN NaN  \n",
       "3   NaN   NaN    NaN    NaN    NaN    NaN    NaN  NaN NaN  \n",
       "4   NaN   NaN    NaN    NaN    NaN    NaN    NaN  NaN NaN  \n",
       "\n",
       "[5 rows x 22 columns]"
      ]
     },
     "execution_count": 41,
     "metadata": {},
     "output_type": "execute_result"
    }
   ],
   "source": [
    "tb = pd.read_csv('tb.csv')\n",
    "tb.head()"
   ]
  },
  {
   "cell_type": "code",
   "execution_count": 42,
   "id": "2e808937",
   "metadata": {},
   "outputs": [
    {
     "data": {
      "text/plain": [
       "Index(['country', 'year', 'm04', 'm514', 'm014', 'm1524', 'm2534', 'm3544',\n",
       "       'm4554', 'm5564', 'm65', 'mu', 'f04', 'f514', 'f014', 'f1524', 'f2534',\n",
       "       'f3544', 'f4554', 'f5564', 'f65', 'fu'],\n",
       "      dtype='object')"
      ]
     },
     "execution_count": 42,
     "metadata": {},
     "output_type": "execute_result"
    }
   ],
   "source": [
    "tb.columns"
   ]
  },
  {
   "cell_type": "code",
   "execution_count": 43,
   "id": "ea6f15c1",
   "metadata": {},
   "outputs": [
    {
     "data": {
      "text/html": [
       "<div>\n",
       "<style scoped>\n",
       "    .dataframe tbody tr th:only-of-type {\n",
       "        vertical-align: middle;\n",
       "    }\n",
       "\n",
       "    .dataframe tbody tr th {\n",
       "        vertical-align: top;\n",
       "    }\n",
       "\n",
       "    .dataframe thead th {\n",
       "        text-align: right;\n",
       "    }\n",
       "</style>\n",
       "<table border=\"1\" class=\"dataframe\">\n",
       "  <thead>\n",
       "    <tr style=\"text-align: right;\">\n",
       "      <th></th>\n",
       "      <th>country</th>\n",
       "      <th>year</th>\n",
       "      <th>sexage</th>\n",
       "      <th>cases</th>\n",
       "    </tr>\n",
       "  </thead>\n",
       "  <tbody>\n",
       "    <tr>\n",
       "      <th>0</th>\n",
       "      <td>AD</td>\n",
       "      <td>1989</td>\n",
       "      <td>m04</td>\n",
       "      <td>NaN</td>\n",
       "    </tr>\n",
       "    <tr>\n",
       "      <th>1</th>\n",
       "      <td>AD</td>\n",
       "      <td>1990</td>\n",
       "      <td>m04</td>\n",
       "      <td>NaN</td>\n",
       "    </tr>\n",
       "    <tr>\n",
       "      <th>2</th>\n",
       "      <td>AD</td>\n",
       "      <td>1991</td>\n",
       "      <td>m04</td>\n",
       "      <td>NaN</td>\n",
       "    </tr>\n",
       "    <tr>\n",
       "      <th>3</th>\n",
       "      <td>AD</td>\n",
       "      <td>1992</td>\n",
       "      <td>m04</td>\n",
       "      <td>NaN</td>\n",
       "    </tr>\n",
       "    <tr>\n",
       "      <th>4</th>\n",
       "      <td>AD</td>\n",
       "      <td>1993</td>\n",
       "      <td>m04</td>\n",
       "      <td>NaN</td>\n",
       "    </tr>\n",
       "  </tbody>\n",
       "</table>\n",
       "</div>"
      ],
      "text/plain": [
       "  country  year sexage  cases\n",
       "0      AD  1989    m04    NaN\n",
       "1      AD  1990    m04    NaN\n",
       "2      AD  1991    m04    NaN\n",
       "3      AD  1992    m04    NaN\n",
       "4      AD  1993    m04    NaN"
      ]
     },
     "execution_count": 43,
     "metadata": {},
     "output_type": "execute_result"
    }
   ],
   "source": [
    "melted_tb = tb.melt(['country', 'year'],['m04', 'm514', 'm014', 'm1524', 'm2534', 'm3544',\n",
    "       'm4554', 'm5564', 'm65', 'mu', 'f04', 'f514', 'f014', 'f1524', 'f2534',\n",
    "       'f3544', 'f4554', 'f5564', 'f65', 'fu'],'sexage', 'cases')\n",
    "melted_tb.head()"
   ]
  },
  {
   "cell_type": "code",
   "execution_count": 44,
   "id": "eb40c964",
   "metadata": {},
   "outputs": [],
   "source": [
    "melted_tb['sex'] = melted_tb['sexage'].str.slice(0,1)\n",
    "melted_tb['age'] = melted_tb['sexage'].str.slice(1)"
   ]
  },
  {
   "cell_type": "code",
   "execution_count": 45,
   "id": "61c2eb6c",
   "metadata": {},
   "outputs": [
    {
     "data": {
      "text/html": [
       "<div>\n",
       "<style scoped>\n",
       "    .dataframe tbody tr th:only-of-type {\n",
       "        vertical-align: middle;\n",
       "    }\n",
       "\n",
       "    .dataframe tbody tr th {\n",
       "        vertical-align: top;\n",
       "    }\n",
       "\n",
       "    .dataframe thead th {\n",
       "        text-align: right;\n",
       "    }\n",
       "</style>\n",
       "<table border=\"1\" class=\"dataframe\">\n",
       "  <thead>\n",
       "    <tr style=\"text-align: right;\">\n",
       "      <th></th>\n",
       "      <th>country</th>\n",
       "      <th>year</th>\n",
       "      <th>sexage</th>\n",
       "      <th>cases</th>\n",
       "      <th>sex</th>\n",
       "      <th>age</th>\n",
       "    </tr>\n",
       "  </thead>\n",
       "  <tbody>\n",
       "    <tr>\n",
       "      <th>0</th>\n",
       "      <td>AD</td>\n",
       "      <td>1989</td>\n",
       "      <td>m04</td>\n",
       "      <td>NaN</td>\n",
       "      <td>m</td>\n",
       "      <td>04</td>\n",
       "    </tr>\n",
       "    <tr>\n",
       "      <th>1</th>\n",
       "      <td>AD</td>\n",
       "      <td>1990</td>\n",
       "      <td>m04</td>\n",
       "      <td>NaN</td>\n",
       "      <td>m</td>\n",
       "      <td>04</td>\n",
       "    </tr>\n",
       "    <tr>\n",
       "      <th>2</th>\n",
       "      <td>AD</td>\n",
       "      <td>1991</td>\n",
       "      <td>m04</td>\n",
       "      <td>NaN</td>\n",
       "      <td>m</td>\n",
       "      <td>04</td>\n",
       "    </tr>\n",
       "    <tr>\n",
       "      <th>3</th>\n",
       "      <td>AD</td>\n",
       "      <td>1992</td>\n",
       "      <td>m04</td>\n",
       "      <td>NaN</td>\n",
       "      <td>m</td>\n",
       "      <td>04</td>\n",
       "    </tr>\n",
       "    <tr>\n",
       "      <th>4</th>\n",
       "      <td>AD</td>\n",
       "      <td>1993</td>\n",
       "      <td>m04</td>\n",
       "      <td>NaN</td>\n",
       "      <td>m</td>\n",
       "      <td>04</td>\n",
       "    </tr>\n",
       "  </tbody>\n",
       "</table>\n",
       "</div>"
      ],
      "text/plain": [
       "  country  year sexage  cases sex age\n",
       "0      AD  1989    m04    NaN   m  04\n",
       "1      AD  1990    m04    NaN   m  04\n",
       "2      AD  1991    m04    NaN   m  04\n",
       "3      AD  1992    m04    NaN   m  04\n",
       "4      AD  1993    m04    NaN   m  04"
      ]
     },
     "execution_count": 45,
     "metadata": {},
     "output_type": "execute_result"
    }
   ],
   "source": [
    "melted_tb.head()"
   ]
  },
  {
   "cell_type": "code",
   "execution_count": 46,
   "id": "b92a6b15",
   "metadata": {},
   "outputs": [
    {
     "data": {
      "text/plain": [
       "0         0-4\n",
       "1         0-4\n",
       "2         0-4\n",
       "3         0-4\n",
       "4         0-4\n",
       "         ... \n",
       "115375    NaN\n",
       "115376    NaN\n",
       "115377    NaN\n",
       "115378    NaN\n",
       "115379    NaN\n",
       "Name: age, Length: 115380, dtype: object"
      ]
     },
     "execution_count": 46,
     "metadata": {},
     "output_type": "execute_result"
    }
   ],
   "source": [
    "melted_tb['age'].map({'04': '0-4','514':'5-14', '1524': '15-24', '2534': '25-34', \n",
    "                      '3544': '35-44','4554':'45-54','5564':'55-64','65':'65+','u': np.nan})"
   ]
  },
  {
   "cell_type": "code",
   "execution_count": 47,
   "id": "ee654dcb",
   "metadata": {},
   "outputs": [
    {
     "data": {
      "text/html": [
       "<div>\n",
       "<style scoped>\n",
       "    .dataframe tbody tr th:only-of-type {\n",
       "        vertical-align: middle;\n",
       "    }\n",
       "\n",
       "    .dataframe tbody tr th {\n",
       "        vertical-align: top;\n",
       "    }\n",
       "\n",
       "    .dataframe thead th {\n",
       "        text-align: right;\n",
       "    }\n",
       "</style>\n",
       "<table border=\"1\" class=\"dataframe\">\n",
       "  <thead>\n",
       "    <tr style=\"text-align: right;\">\n",
       "      <th></th>\n",
       "      <th>country</th>\n",
       "      <th>year</th>\n",
       "      <th>sexage</th>\n",
       "      <th>cases</th>\n",
       "      <th>sex</th>\n",
       "      <th>age</th>\n",
       "    </tr>\n",
       "  </thead>\n",
       "  <tbody>\n",
       "    <tr>\n",
       "      <th>15</th>\n",
       "      <td>AD</td>\n",
       "      <td>2005</td>\n",
       "      <td>m04</td>\n",
       "      <td>0.0</td>\n",
       "      <td>m</td>\n",
       "      <td>04</td>\n",
       "    </tr>\n",
       "    <tr>\n",
       "      <th>16</th>\n",
       "      <td>AD</td>\n",
       "      <td>2006</td>\n",
       "      <td>m04</td>\n",
       "      <td>0.0</td>\n",
       "      <td>m</td>\n",
       "      <td>04</td>\n",
       "    </tr>\n",
       "    <tr>\n",
       "      <th>18</th>\n",
       "      <td>AD</td>\n",
       "      <td>2008</td>\n",
       "      <td>m04</td>\n",
       "      <td>0.0</td>\n",
       "      <td>m</td>\n",
       "      <td>04</td>\n",
       "    </tr>\n",
       "    <tr>\n",
       "      <th>42</th>\n",
       "      <td>AE</td>\n",
       "      <td>2006</td>\n",
       "      <td>m04</td>\n",
       "      <td>0.0</td>\n",
       "      <td>m</td>\n",
       "      <td>04</td>\n",
       "    </tr>\n",
       "    <tr>\n",
       "      <th>43</th>\n",
       "      <td>AE</td>\n",
       "      <td>2007</td>\n",
       "      <td>m04</td>\n",
       "      <td>0.0</td>\n",
       "      <td>m</td>\n",
       "      <td>04</td>\n",
       "    </tr>\n",
       "  </tbody>\n",
       "</table>\n",
       "</div>"
      ],
      "text/plain": [
       "   country  year sexage  cases sex age\n",
       "15      AD  2005    m04    0.0   m  04\n",
       "16      AD  2006    m04    0.0   m  04\n",
       "18      AD  2008    m04    0.0   m  04\n",
       "42      AE  2006    m04    0.0   m  04\n",
       "43      AE  2007    m04    0.0   m  04"
      ]
     },
     "execution_count": 47,
     "metadata": {},
     "output_type": "execute_result"
    }
   ],
   "source": [
    "final = melted_tb.dropna(subset=['cases'])\n",
    "final.head()"
   ]
  },
  {
   "cell_type": "code",
   "execution_count": 48,
   "id": "6defb36a",
   "metadata": {},
   "outputs": [
    {
     "data": {
      "text/html": [
       "<div>\n",
       "<style scoped>\n",
       "    .dataframe tbody tr th:only-of-type {\n",
       "        vertical-align: middle;\n",
       "    }\n",
       "\n",
       "    .dataframe tbody tr th {\n",
       "        vertical-align: top;\n",
       "    }\n",
       "\n",
       "    .dataframe thead th {\n",
       "        text-align: right;\n",
       "    }\n",
       "</style>\n",
       "<table border=\"1\" class=\"dataframe\">\n",
       "  <thead>\n",
       "    <tr style=\"text-align: right;\">\n",
       "      <th></th>\n",
       "      <th>country</th>\n",
       "      <th>year</th>\n",
       "      <th>sexage</th>\n",
       "      <th>cases</th>\n",
       "      <th>sex</th>\n",
       "      <th>age</th>\n",
       "    </tr>\n",
       "  </thead>\n",
       "  <tbody>\n",
       "    <tr>\n",
       "      <th>15</th>\n",
       "      <td>AD</td>\n",
       "      <td>2005</td>\n",
       "      <td>m04</td>\n",
       "      <td>0.0</td>\n",
       "      <td>m</td>\n",
       "      <td>04</td>\n",
       "    </tr>\n",
       "    <tr>\n",
       "      <th>16</th>\n",
       "      <td>AD</td>\n",
       "      <td>2006</td>\n",
       "      <td>m04</td>\n",
       "      <td>0.0</td>\n",
       "      <td>m</td>\n",
       "      <td>04</td>\n",
       "    </tr>\n",
       "    <tr>\n",
       "      <th>18</th>\n",
       "      <td>AD</td>\n",
       "      <td>2008</td>\n",
       "      <td>m04</td>\n",
       "      <td>0.0</td>\n",
       "      <td>m</td>\n",
       "      <td>04</td>\n",
       "    </tr>\n",
       "    <tr>\n",
       "      <th>42</th>\n",
       "      <td>AE</td>\n",
       "      <td>2006</td>\n",
       "      <td>m04</td>\n",
       "      <td>0.0</td>\n",
       "      <td>m</td>\n",
       "      <td>04</td>\n",
       "    </tr>\n",
       "    <tr>\n",
       "      <th>43</th>\n",
       "      <td>AE</td>\n",
       "      <td>2007</td>\n",
       "      <td>m04</td>\n",
       "      <td>0.0</td>\n",
       "      <td>m</td>\n",
       "      <td>04</td>\n",
       "    </tr>\n",
       "  </tbody>\n",
       "</table>\n",
       "</div>"
      ],
      "text/plain": [
       "   country  year sexage  cases sex age\n",
       "15      AD  2005    m04    0.0   m  04\n",
       "16      AD  2006    m04    0.0   m  04\n",
       "18      AD  2008    m04    0.0   m  04\n",
       "42      AE  2006    m04    0.0   m  04\n",
       "43      AE  2007    m04    0.0   m  04"
      ]
     },
     "execution_count": 48,
     "metadata": {},
     "output_type": "execute_result"
    }
   ],
   "source": [
    "final.sort_values(['country','year','age','sex'])\n",
    "final.head()"
   ]
  },
  {
   "cell_type": "code",
   "execution_count": 49,
   "id": "86fe88a9",
   "metadata": {},
   "outputs": [
    {
     "data": {
      "text/html": [
       "<div>\n",
       "<style scoped>\n",
       "    .dataframe tbody tr th:only-of-type {\n",
       "        vertical-align: middle;\n",
       "    }\n",
       "\n",
       "    .dataframe tbody tr th {\n",
       "        vertical-align: top;\n",
       "    }\n",
       "\n",
       "    .dataframe thead th {\n",
       "        text-align: right;\n",
       "    }\n",
       "</style>\n",
       "<table border=\"1\" class=\"dataframe\">\n",
       "  <thead>\n",
       "    <tr style=\"text-align: right;\">\n",
       "      <th></th>\n",
       "      <th>country</th>\n",
       "      <th>year</th>\n",
       "      <th>age</th>\n",
       "      <th>sex</th>\n",
       "      <th>cases</th>\n",
       "    </tr>\n",
       "  </thead>\n",
       "  <tbody>\n",
       "    <tr>\n",
       "      <th>15</th>\n",
       "      <td>AD</td>\n",
       "      <td>2005</td>\n",
       "      <td>04</td>\n",
       "      <td>m</td>\n",
       "      <td>0.0</td>\n",
       "    </tr>\n",
       "    <tr>\n",
       "      <th>16</th>\n",
       "      <td>AD</td>\n",
       "      <td>2006</td>\n",
       "      <td>04</td>\n",
       "      <td>m</td>\n",
       "      <td>0.0</td>\n",
       "    </tr>\n",
       "    <tr>\n",
       "      <th>18</th>\n",
       "      <td>AD</td>\n",
       "      <td>2008</td>\n",
       "      <td>04</td>\n",
       "      <td>m</td>\n",
       "      <td>0.0</td>\n",
       "    </tr>\n",
       "    <tr>\n",
       "      <th>42</th>\n",
       "      <td>AE</td>\n",
       "      <td>2006</td>\n",
       "      <td>04</td>\n",
       "      <td>m</td>\n",
       "      <td>0.0</td>\n",
       "    </tr>\n",
       "    <tr>\n",
       "      <th>43</th>\n",
       "      <td>AE</td>\n",
       "      <td>2007</td>\n",
       "      <td>04</td>\n",
       "      <td>m</td>\n",
       "      <td>0.0</td>\n",
       "    </tr>\n",
       "    <tr>\n",
       "      <th>44</th>\n",
       "      <td>AE</td>\n",
       "      <td>2008</td>\n",
       "      <td>04</td>\n",
       "      <td>m</td>\n",
       "      <td>0.0</td>\n",
       "    </tr>\n",
       "    <tr>\n",
       "      <th>94</th>\n",
       "      <td>AG</td>\n",
       "      <td>2007</td>\n",
       "      <td>04</td>\n",
       "      <td>m</td>\n",
       "      <td>0.0</td>\n",
       "    </tr>\n",
       "    <tr>\n",
       "      <th>141</th>\n",
       "      <td>AL</td>\n",
       "      <td>2005</td>\n",
       "      <td>04</td>\n",
       "      <td>m</td>\n",
       "      <td>0.0</td>\n",
       "    </tr>\n",
       "    <tr>\n",
       "      <th>142</th>\n",
       "      <td>AL</td>\n",
       "      <td>2006</td>\n",
       "      <td>04</td>\n",
       "      <td>m</td>\n",
       "      <td>1.0</td>\n",
       "    </tr>\n",
       "    <tr>\n",
       "      <th>143</th>\n",
       "      <td>AL</td>\n",
       "      <td>2007</td>\n",
       "      <td>04</td>\n",
       "      <td>m</td>\n",
       "      <td>0.0</td>\n",
       "    </tr>\n",
       "  </tbody>\n",
       "</table>\n",
       "</div>"
      ],
      "text/plain": [
       "    country  year age sex  cases\n",
       "15       AD  2005  04   m    0.0\n",
       "16       AD  2006  04   m    0.0\n",
       "18       AD  2008  04   m    0.0\n",
       "42       AE  2006  04   m    0.0\n",
       "43       AE  2007  04   m    0.0\n",
       "44       AE  2008  04   m    0.0\n",
       "94       AG  2007  04   m    0.0\n",
       "141      AL  2005  04   m    0.0\n",
       "142      AL  2006  04   m    1.0\n",
       "143      AL  2007  04   m    0.0"
      ]
     },
     "execution_count": 49,
     "metadata": {},
     "output_type": "execute_result"
    }
   ],
   "source": [
    "final = final[['country','year','age','sex','cases']]\n",
    "final.head(10)"
   ]
  },
  {
   "cell_type": "code",
   "execution_count": 50,
   "id": "ea84d42d",
   "metadata": {},
   "outputs": [],
   "source": [
    "final.to_csv('tb_final.csv', index=False)"
   ]
  },
  {
   "cell_type": "markdown",
   "id": "9b008310",
   "metadata": {},
   "source": [
    "## Python Visualizations"
   ]
  },
  {
   "cell_type": "code",
   "execution_count": 52,
   "id": "b7366852",
   "metadata": {},
   "outputs": [],
   "source": [
    "gapminder = pd.read_csv('data/gapminder.csv')"
   ]
  },
  {
   "cell_type": "code",
   "execution_count": 54,
   "id": "1ffbf475",
   "metadata": {},
   "outputs": [
    {
     "data": {
      "text/html": [
       "<div>\n",
       "<style scoped>\n",
       "    .dataframe tbody tr th:only-of-type {\n",
       "        vertical-align: middle;\n",
       "    }\n",
       "\n",
       "    .dataframe tbody tr th {\n",
       "        vertical-align: top;\n",
       "    }\n",
       "\n",
       "    .dataframe thead th {\n",
       "        text-align: right;\n",
       "    }\n",
       "</style>\n",
       "<table border=\"1\" class=\"dataframe\">\n",
       "  <thead>\n",
       "    <tr style=\"text-align: right;\">\n",
       "      <th></th>\n",
       "      <th>country</th>\n",
       "      <th>year</th>\n",
       "      <th>region</th>\n",
       "      <th>population</th>\n",
       "      <th>life_expectancy</th>\n",
       "      <th>age5_surviving</th>\n",
       "      <th>babies_per_woman</th>\n",
       "      <th>gdp_per_capita</th>\n",
       "      <th>gdp_per_day</th>\n",
       "    </tr>\n",
       "  </thead>\n",
       "  <tbody>\n",
       "    <tr>\n",
       "      <th>0</th>\n",
       "      <td>Afghanistan</td>\n",
       "      <td>1800</td>\n",
       "      <td>Asia</td>\n",
       "      <td>3280000.0</td>\n",
       "      <td>28.21</td>\n",
       "      <td>53.142</td>\n",
       "      <td>7.00</td>\n",
       "      <td>603.0</td>\n",
       "      <td>1.650924</td>\n",
       "    </tr>\n",
       "    <tr>\n",
       "      <th>20</th>\n",
       "      <td>Afghanistan</td>\n",
       "      <td>1955</td>\n",
       "      <td>Asia</td>\n",
       "      <td>8270024.0</td>\n",
       "      <td>29.27</td>\n",
       "      <td>60.193</td>\n",
       "      <td>7.67</td>\n",
       "      <td>1125.0</td>\n",
       "      <td>3.080082</td>\n",
       "    </tr>\n",
       "    <tr>\n",
       "      <th>40</th>\n",
       "      <td>Afghanistan</td>\n",
       "      <td>1975</td>\n",
       "      <td>Asia</td>\n",
       "      <td>12582954.0</td>\n",
       "      <td>39.61</td>\n",
       "      <td>72.060</td>\n",
       "      <td>7.67</td>\n",
       "      <td>1201.0</td>\n",
       "      <td>3.288159</td>\n",
       "    </tr>\n",
       "    <tr>\n",
       "      <th>60</th>\n",
       "      <td>Afghanistan</td>\n",
       "      <td>1995</td>\n",
       "      <td>Asia</td>\n",
       "      <td>16772522.0</td>\n",
       "      <td>49.40</td>\n",
       "      <td>84.770</td>\n",
       "      <td>7.83</td>\n",
       "      <td>872.0</td>\n",
       "      <td>2.387406</td>\n",
       "    </tr>\n",
       "    <tr>\n",
       "      <th>80</th>\n",
       "      <td>Afghanistan</td>\n",
       "      <td>2015</td>\n",
       "      <td>Asia</td>\n",
       "      <td>32526562.0</td>\n",
       "      <td>53.80</td>\n",
       "      <td>90.890</td>\n",
       "      <td>4.47</td>\n",
       "      <td>1925.0</td>\n",
       "      <td>5.270363</td>\n",
       "    </tr>\n",
       "    <tr>\n",
       "      <th>100</th>\n",
       "      <td>Albania</td>\n",
       "      <td>1954</td>\n",
       "      <td>Europe</td>\n",
       "      <td>1382881.0</td>\n",
       "      <td>56.59</td>\n",
       "      <td>84.829</td>\n",
       "      <td>6.31</td>\n",
       "      <td>2108.0</td>\n",
       "      <td>5.771389</td>\n",
       "    </tr>\n",
       "    <tr>\n",
       "      <th>120</th>\n",
       "      <td>Albania</td>\n",
       "      <td>1974</td>\n",
       "      <td>Europe</td>\n",
       "      <td>2358467.0</td>\n",
       "      <td>69.35</td>\n",
       "      <td>90.082</td>\n",
       "      <td>4.54</td>\n",
       "      <td>4177.0</td>\n",
       "      <td>11.436003</td>\n",
       "    </tr>\n",
       "    <tr>\n",
       "      <th>140</th>\n",
       "      <td>Albania</td>\n",
       "      <td>1994</td>\n",
       "      <td>Europe</td>\n",
       "      <td>3140634.0</td>\n",
       "      <td>73.60</td>\n",
       "      <td>96.540</td>\n",
       "      <td>2.77</td>\n",
       "      <td>3457.0</td>\n",
       "      <td>9.464750</td>\n",
       "    </tr>\n",
       "    <tr>\n",
       "      <th>160</th>\n",
       "      <td>Albania</td>\n",
       "      <td>2014</td>\n",
       "      <td>Europe</td>\n",
       "      <td>2889676.0</td>\n",
       "      <td>77.90</td>\n",
       "      <td>98.560</td>\n",
       "      <td>1.78</td>\n",
       "      <td>10160.0</td>\n",
       "      <td>27.816564</td>\n",
       "    </tr>\n",
       "    <tr>\n",
       "      <th>180</th>\n",
       "      <td>Algeria</td>\n",
       "      <td>1953</td>\n",
       "      <td>Africa</td>\n",
       "      <td>9405445.0</td>\n",
       "      <td>43.96</td>\n",
       "      <td>73.758</td>\n",
       "      <td>7.65</td>\n",
       "      <td>4077.0</td>\n",
       "      <td>11.162218</td>\n",
       "    </tr>\n",
       "    <tr>\n",
       "      <th>200</th>\n",
       "      <td>Algeria</td>\n",
       "      <td>1973</td>\n",
       "      <td>Africa</td>\n",
       "      <td>15804428.0</td>\n",
       "      <td>53.91</td>\n",
       "      <td>77.660</td>\n",
       "      <td>7.55</td>\n",
       "      <td>7581.0</td>\n",
       "      <td>20.755647</td>\n",
       "    </tr>\n",
       "  </tbody>\n",
       "</table>\n",
       "</div>"
      ],
      "text/plain": [
       "         country  year  region  population  life_expectancy  age5_surviving  \\\n",
       "0    Afghanistan  1800    Asia   3280000.0            28.21          53.142   \n",
       "20   Afghanistan  1955    Asia   8270024.0            29.27          60.193   \n",
       "40   Afghanistan  1975    Asia  12582954.0            39.61          72.060   \n",
       "60   Afghanistan  1995    Asia  16772522.0            49.40          84.770   \n",
       "80   Afghanistan  2015    Asia  32526562.0            53.80          90.890   \n",
       "100      Albania  1954  Europe   1382881.0            56.59          84.829   \n",
       "120      Albania  1974  Europe   2358467.0            69.35          90.082   \n",
       "140      Albania  1994  Europe   3140634.0            73.60          96.540   \n",
       "160      Albania  2014  Europe   2889676.0            77.90          98.560   \n",
       "180      Algeria  1953  Africa   9405445.0            43.96          73.758   \n",
       "200      Algeria  1973  Africa  15804428.0            53.91          77.660   \n",
       "\n",
       "     babies_per_woman  gdp_per_capita  gdp_per_day  \n",
       "0                7.00           603.0     1.650924  \n",
       "20               7.67          1125.0     3.080082  \n",
       "40               7.67          1201.0     3.288159  \n",
       "60               7.83           872.0     2.387406  \n",
       "80               4.47          1925.0     5.270363  \n",
       "100              6.31          2108.0     5.771389  \n",
       "120              4.54          4177.0    11.436003  \n",
       "140              2.77          3457.0     9.464750  \n",
       "160              1.78         10160.0    27.816564  \n",
       "180              7.65          4077.0    11.162218  \n",
       "200              7.55          7581.0    20.755647  "
      ]
     },
     "execution_count": 54,
     "metadata": {},
     "output_type": "execute_result"
    }
   ],
   "source": [
    "gapminder.loc[0:200:20]"
   ]
  },
  {
   "cell_type": "code",
   "execution_count": 56,
   "id": "4f12c596",
   "metadata": {},
   "outputs": [
    {
     "data": {
      "text/plain": [
       "<AxesSubplot:xlabel='babies_per_woman', ylabel='age5_surviving'>"
      ]
     },
     "execution_count": 56,
     "metadata": {},
     "output_type": "execute_result"
    },
    {
     "data": {
      "image/png": "[encoded data removed]",
      "text/plain": [
       "<Figure size 432x288 with 1 Axes>"
      ]
     },
     "metadata": {
      "needs_background": "light"
     },
     "output_type": "display_data"
    }
   ],
   "source": [
    "gapminder[gapminder.year == 1965].plot.scatter('babies_per_woman','age5_surviving')"
   ]
  },
  {
   "cell_type": "code",
   "execution_count": 74,
   "id": "7a5b1e73",
   "metadata": {},
   "outputs": [],
   "source": [
    "def plotyear(year):\n",
    "    data = gapminder[gapminder.year == year]\n",
    "    area = 5e-6 * data.population\n",
    "    colors = data.region.map({'Africa':'skyblue', 'Europe':'gold', 'America':'palegreen', 'Asia':'coral'})\n",
    "    \n",
    "    data.plot.scatter('babies_per_woman','age5_surviving',\n",
    "                    s=area,c=colors,\n",
    "                    linewidth=1,edgecolors='k',\n",
    "                     figsize=(12,9))\n",
    "    pp.axis(ymin=50, ymax=105, xmin=0, xmax=8)\n",
    "    pp.xlabel('babies per woman')\n",
    "    pp.ylabel('% children alive at 5')"
   ]
  },
  {
   "cell_type": "code",
   "execution_count": 75,
   "id": "2b23d247",
   "metadata": {},
   "outputs": [
    {
     "data": {
      "application/vnd.jupyter.widget-view+json": {
       "model_id": "fd7edad9449e4b7a89e137c731bea459",
       "version_major": 2,
       "version_minor": 0
      },
      "text/plain": [
       "interactive(children=(IntSlider(value=1965, description='year', max=2015, min=1950), Output()), _dom_classes=(…"
      ]
     },
     "metadata": {},
     "output_type": "display_data"
    },
    {
     "data": {
      "text/plain": [
       "<function __main__.plotyear(year)>"
      ]
     },
     "execution_count": 75,
     "metadata": {},
     "output_type": "execute_result"
    }
   ],
   "source": [
    "interact(plotyear,year=widgets.IntSlider(min=1950,max=2015, step=1, value=1965))"
   ]
  },
  {
   "cell_type": "markdown",
   "id": "63d64e0f",
   "metadata": {},
   "source": [
    "### Distributions"
   ]
  },
  {
   "cell_type": "code",
   "execution_count": 77,
   "id": "b4281b39",
   "metadata": {},
   "outputs": [],
   "source": [
    "china1965 = pd.read_csv('data/income-1965-china.csv')\n",
    "china2015 = pd.read_csv('data/income-2015-china.csv')\n",
    "usa1965 = pd.read_csv('data/income-1965-usa.csv')\n",
    "usa2015 = pd.read_csv('data/income-2015-usa.csv')"
   ]
  },
  {
   "cell_type": "code",
   "execution_count": 79,
   "id": "135845b1",
   "metadata": {},
   "outputs": [
    {
     "name": "stdout",
     "output_type": "stream",
     "text": [
      "<class 'pandas.core.frame.DataFrame'>\n",
      "RangeIndex: 1000 entries, 0 to 999\n",
      "Data columns (total 2 columns):\n",
      " #   Column        Non-Null Count  Dtype  \n",
      "---  ------        --------------  -----  \n",
      " 0   income        1000 non-null   float64\n",
      " 1   log10_income  1000 non-null   float64\n",
      "dtypes: float64(2)\n",
      "memory usage: 15.8 KB\n"
     ]
    }
   ],
   "source": [
    "china1965.info()"
   ]
  },
  {
   "cell_type": "code",
   "execution_count": 80,
   "id": "5f2a8e8d",
   "metadata": {},
   "outputs": [
    {
     "data": {
      "text/html": [
       "<div>\n",
       "<style scoped>\n",
       "    .dataframe tbody tr th:only-of-type {\n",
       "        vertical-align: middle;\n",
       "    }\n",
       "\n",
       "    .dataframe tbody tr th {\n",
       "        vertical-align: top;\n",
       "    }\n",
       "\n",
       "    .dataframe thead th {\n",
       "        text-align: right;\n",
       "    }\n",
       "</style>\n",
       "<table border=\"1\" class=\"dataframe\">\n",
       "  <thead>\n",
       "    <tr style=\"text-align: right;\">\n",
       "      <th></th>\n",
       "      <th>income</th>\n",
       "      <th>log10_income</th>\n",
       "    </tr>\n",
       "  </thead>\n",
       "  <tbody>\n",
       "    <tr>\n",
       "      <th>0</th>\n",
       "      <td>1.026259</td>\n",
       "      <td>0.011257</td>\n",
       "    </tr>\n",
       "    <tr>\n",
       "      <th>1</th>\n",
       "      <td>0.912053</td>\n",
       "      <td>-0.039980</td>\n",
       "    </tr>\n",
       "    <tr>\n",
       "      <th>2</th>\n",
       "      <td>0.110699</td>\n",
       "      <td>-0.955857</td>\n",
       "    </tr>\n",
       "    <tr>\n",
       "      <th>3</th>\n",
       "      <td>0.469659</td>\n",
       "      <td>-0.328217</td>\n",
       "    </tr>\n",
       "    <tr>\n",
       "      <th>4</th>\n",
       "      <td>0.374626</td>\n",
       "      <td>-0.426402</td>\n",
       "    </tr>\n",
       "  </tbody>\n",
       "</table>\n",
       "</div>"
      ],
      "text/plain": [
       "     income  log10_income\n",
       "0  1.026259      0.011257\n",
       "1  0.912053     -0.039980\n",
       "2  0.110699     -0.955857\n",
       "3  0.469659     -0.328217\n",
       "4  0.374626     -0.426402"
      ]
     },
     "execution_count": 80,
     "metadata": {},
     "output_type": "execute_result"
    }
   ],
   "source": [
    "china1965.head()"
   ]
  },
  {
   "cell_type": "code",
   "execution_count": 81,
   "id": "895065c7",
   "metadata": {},
   "outputs": [
    {
     "data": {
      "text/plain": [
       "income          0.041968\n",
       "log10_income   -1.377078\n",
       "dtype: float64"
      ]
     },
     "execution_count": 81,
     "metadata": {},
     "output_type": "execute_result"
    }
   ],
   "source": [
    "china1965.min()"
   ]
  },
  {
   "cell_type": "code",
   "execution_count": 82,
   "id": "b0d7d838",
   "metadata": {},
   "outputs": [
    {
     "data": {
      "text/plain": [
       "income          5.426802\n",
       "log10_income    0.734544\n",
       "dtype: float64"
      ]
     },
     "execution_count": 82,
     "metadata": {},
     "output_type": "execute_result"
    }
   ],
   "source": [
    "china1965.max()"
   ]
  },
  {
   "cell_type": "code",
   "execution_count": 83,
   "id": "24514f64",
   "metadata": {},
   "outputs": [
    {
     "data": {
      "text/plain": [
       "income          0.660597\n",
       "log10_income   -0.274157\n",
       "dtype: float64"
      ]
     },
     "execution_count": 83,
     "metadata": {},
     "output_type": "execute_result"
    }
   ],
   "source": [
    "china1965.mean()"
   ]
  },
  {
   "cell_type": "code",
   "execution_count": 85,
   "id": "0ea3659d",
   "metadata": {},
   "outputs": [
    {
     "data": {
      "text/plain": [
       "income          0.208846\n",
       "log10_income    0.088610\n",
       "dtype: float64"
      ]
     },
     "execution_count": 85,
     "metadata": {},
     "output_type": "execute_result"
    }
   ],
   "source": [
    "china1965.var(ddof=0)"
   ]
  },
  {
   "cell_type": "code",
   "execution_count": 86,
   "id": "17e247d0",
   "metadata": {},
   "outputs": [
    {
     "data": {
      "text/html": [
       "<div>\n",
       "<style scoped>\n",
       "    .dataframe tbody tr th:only-of-type {\n",
       "        vertical-align: middle;\n",
       "    }\n",
       "\n",
       "    .dataframe tbody tr th {\n",
       "        vertical-align: top;\n",
       "    }\n",
       "\n",
       "    .dataframe thead th {\n",
       "        text-align: right;\n",
       "    }\n",
       "</style>\n",
       "<table border=\"1\" class=\"dataframe\">\n",
       "  <thead>\n",
       "    <tr style=\"text-align: right;\">\n",
       "      <th></th>\n",
       "      <th>income</th>\n",
       "      <th>log10_income</th>\n",
       "    </tr>\n",
       "  </thead>\n",
       "  <tbody>\n",
       "    <tr>\n",
       "      <th>0.25</th>\n",
       "      <td>0.344130</td>\n",
       "      <td>-0.463277</td>\n",
       "    </tr>\n",
       "    <tr>\n",
       "      <th>0.75</th>\n",
       "      <td>0.863695</td>\n",
       "      <td>-0.063640</td>\n",
       "    </tr>\n",
       "  </tbody>\n",
       "</table>\n",
       "</div>"
      ],
      "text/plain": [
       "        income  log10_income\n",
       "0.25  0.344130     -0.463277\n",
       "0.75  0.863695     -0.063640"
      ]
     },
     "execution_count": 86,
     "metadata": {},
     "output_type": "execute_result"
    }
   ],
   "source": [
    "china1965.quantile((.25,.75))"
   ]
  },
  {
   "cell_type": "code",
   "execution_count": 87,
   "id": "f02f739e",
   "metadata": {},
   "outputs": [
    {
     "data": {
      "text/plain": [
       "income          0.557477\n",
       "log10_income   -0.253773\n",
       "Name: 0.5, dtype: float64"
      ]
     },
     "execution_count": 87,
     "metadata": {},
     "output_type": "execute_result"
    }
   ],
   "source": [
    "china1965.quantile(.5)"
   ]
  },
  {
   "cell_type": "code",
   "execution_count": 88,
   "id": "3b22fe9e",
   "metadata": {},
   "outputs": [
    {
     "data": {
      "text/plain": [
       "income          0.557477\n",
       "log10_income   -0.253773\n",
       "dtype: float64"
      ]
     },
     "execution_count": 88,
     "metadata": {},
     "output_type": "execute_result"
    }
   ],
   "source": [
    "china1965.median()"
   ]
  },
  {
   "cell_type": "code",
   "execution_count": 93,
   "id": "a84ac3cc",
   "metadata": {},
   "outputs": [
    {
     "data": {
      "text/plain": [
       "95.5"
      ]
     },
     "execution_count": 93,
     "metadata": {},
     "output_type": "execute_result"
    }
   ],
   "source": [
    "scipy.stats.percentileofscore(china1965.income, 1.5)"
   ]
  },
  {
   "cell_type": "code",
   "execution_count": 95,
   "id": "bd24114b",
   "metadata": {},
   "outputs": [
    {
     "data": {
      "text/html": [
       "<div>\n",
       "<style scoped>\n",
       "    .dataframe tbody tr th:only-of-type {\n",
       "        vertical-align: middle;\n",
       "    }\n",
       "\n",
       "    .dataframe tbody tr th {\n",
       "        vertical-align: top;\n",
       "    }\n",
       "\n",
       "    .dataframe thead th {\n",
       "        text-align: right;\n",
       "    }\n",
       "</style>\n",
       "<table border=\"1\" class=\"dataframe\">\n",
       "  <thead>\n",
       "    <tr style=\"text-align: right;\">\n",
       "      <th></th>\n",
       "      <th>income</th>\n",
       "      <th>log10_income</th>\n",
       "    </tr>\n",
       "  </thead>\n",
       "  <tbody>\n",
       "    <tr>\n",
       "      <th>count</th>\n",
       "      <td>1000.000000</td>\n",
       "      <td>1000.000000</td>\n",
       "    </tr>\n",
       "    <tr>\n",
       "      <th>mean</th>\n",
       "      <td>0.660597</td>\n",
       "      <td>-0.274157</td>\n",
       "    </tr>\n",
       "    <tr>\n",
       "      <th>std</th>\n",
       "      <td>0.457226</td>\n",
       "      <td>0.297822</td>\n",
       "    </tr>\n",
       "    <tr>\n",
       "      <th>min</th>\n",
       "      <td>0.041968</td>\n",
       "      <td>-1.377078</td>\n",
       "    </tr>\n",
       "    <tr>\n",
       "      <th>25%</th>\n",
       "      <td>0.344130</td>\n",
       "      <td>-0.463277</td>\n",
       "    </tr>\n",
       "    <tr>\n",
       "      <th>50%</th>\n",
       "      <td>0.557477</td>\n",
       "      <td>-0.253773</td>\n",
       "    </tr>\n",
       "    <tr>\n",
       "      <th>75%</th>\n",
       "      <td>0.863695</td>\n",
       "      <td>-0.063640</td>\n",
       "    </tr>\n",
       "    <tr>\n",
       "      <th>max</th>\n",
       "      <td>5.426802</td>\n",
       "      <td>0.734544</td>\n",
       "    </tr>\n",
       "  </tbody>\n",
       "</table>\n",
       "</div>"
      ],
      "text/plain": [
       "            income  log10_income\n",
       "count  1000.000000   1000.000000\n",
       "mean      0.660597     -0.274157\n",
       "std       0.457226      0.297822\n",
       "min       0.041968     -1.377078\n",
       "25%       0.344130     -0.463277\n",
       "50%       0.557477     -0.253773\n",
       "75%       0.863695     -0.063640\n",
       "max       5.426802      0.734544"
      ]
     },
     "execution_count": 95,
     "metadata": {},
     "output_type": "execute_result"
    }
   ],
   "source": [
    "china1965.describe()"
   ]
  },
  {
   "cell_type": "code",
   "execution_count": 96,
   "id": "c87846ae",
   "metadata": {},
   "outputs": [
    {
     "data": {
      "text/html": [
       "<div>\n",
       "<style scoped>\n",
       "    .dataframe tbody tr th:only-of-type {\n",
       "        vertical-align: middle;\n",
       "    }\n",
       "\n",
       "    .dataframe tbody tr th {\n",
       "        vertical-align: top;\n",
       "    }\n",
       "\n",
       "    .dataframe thead th {\n",
       "        text-align: right;\n",
       "    }\n",
       "</style>\n",
       "<table border=\"1\" class=\"dataframe\">\n",
       "  <thead>\n",
       "    <tr style=\"text-align: right;\">\n",
       "      <th></th>\n",
       "      <th>income</th>\n",
       "      <th>log10_income</th>\n",
       "    </tr>\n",
       "  </thead>\n",
       "  <tbody>\n",
       "    <tr>\n",
       "      <th>count</th>\n",
       "      <td>1000.000000</td>\n",
       "      <td>1000.000000</td>\n",
       "    </tr>\n",
       "    <tr>\n",
       "      <th>mean</th>\n",
       "      <td>31.587965</td>\n",
       "      <td>1.418835</td>\n",
       "    </tr>\n",
       "    <tr>\n",
       "      <th>std</th>\n",
       "      <td>22.101531</td>\n",
       "      <td>0.262200</td>\n",
       "    </tr>\n",
       "    <tr>\n",
       "      <th>min</th>\n",
       "      <td>4.177852</td>\n",
       "      <td>0.620953</td>\n",
       "    </tr>\n",
       "    <tr>\n",
       "      <th>25%</th>\n",
       "      <td>17.498592</td>\n",
       "      <td>1.243003</td>\n",
       "    </tr>\n",
       "    <tr>\n",
       "      <th>50%</th>\n",
       "      <td>26.069531</td>\n",
       "      <td>1.416133</td>\n",
       "    </tr>\n",
       "    <tr>\n",
       "      <th>75%</th>\n",
       "      <td>39.017113</td>\n",
       "      <td>1.591255</td>\n",
       "    </tr>\n",
       "    <tr>\n",
       "      <th>max</th>\n",
       "      <td>246.030397</td>\n",
       "      <td>2.390989</td>\n",
       "    </tr>\n",
       "  </tbody>\n",
       "</table>\n",
       "</div>"
      ],
      "text/plain": [
       "            income  log10_income\n",
       "count  1000.000000   1000.000000\n",
       "mean     31.587965      1.418835\n",
       "std      22.101531      0.262200\n",
       "min       4.177852      0.620953\n",
       "25%      17.498592      1.243003\n",
       "50%      26.069531      1.416133\n",
       "75%      39.017113      1.591255\n",
       "max     246.030397      2.390989"
      ]
     },
     "execution_count": 96,
     "metadata": {},
     "output_type": "execute_result"
    }
   ],
   "source": [
    "usa1965.describe()"
   ]
  },
  {
   "cell_type": "markdown",
   "id": "f67543c0",
   "metadata": {},
   "source": [
    "### Histograms"
   ]
  },
  {
   "cell_type": "code",
   "execution_count": 97,
   "id": "bce453c1",
   "metadata": {},
   "outputs": [
    {
     "data": {
      "text/plain": [
       "<AxesSubplot:>"
      ]
     },
     "execution_count": 97,
     "metadata": {},
     "output_type": "execute_result"
    },
    {
     "data": {
      "image/png": "[encoded data removed]",
      "text/plain": [
       "<Figure size 432x288 with 1 Axes>"
      ]
     },
     "metadata": {
      "needs_background": "light"
     },
     "output_type": "display_data"
    }
   ],
   "source": [
    "china1965.income.plot(kind='box')"
   ]
  },
  {
   "cell_type": "code",
   "execution_count": 100,
   "id": "4d6e5cef",
   "metadata": {},
   "outputs": [
    {
     "data": {
      "text/plain": [
       "<AxesSubplot:>"
      ]
     },
     "execution_count": 100,
     "metadata": {},
     "output_type": "execute_result"
    },
    {
     "data": {
      "image/png": "[encoded data removed]",
      "text/plain": [
       "<Figure size 432x288 with 1 Axes>"
      ]
     },
     "metadata": {
      "needs_background": "light"
     },
     "output_type": "display_data"
    }
   ],
   "source": [
    "pd.DataFrame({'usa': usa1965.log10_income, 'china':china1965.log10_income}).boxplot()"
   ]
  },
  {
   "cell_type": "code",
   "execution_count": 109,
   "id": "9269615b",
   "metadata": {},
   "outputs": [
    {
     "data": {
      "text/plain": [
       "(0.0, 3.0, 0.0, 221.55)"
      ]
     },
     "execution_count": 109,
     "metadata": {},
     "output_type": "execute_result"
    },
    {
     "data": {
      "image/png": "[encoded data removed]",
      "text/plain": [
       "<Figure size 432x288 with 1 Axes>"
      ]
     },
     "metadata": {
      "needs_background": "light"
     },
     "output_type": "display_data"
    }
   ],
   "source": [
    "china1965.income.plot(kind='hist',histtype='step', bins=30)\n",
    "\n",
    "pp.axvline(china1965.income.mean(), c='C1')\n",
    "pp.axvline(china1965.income.median(), c='C1', linestyle='--')\n",
    "pp.axvline(china1965.income.quantile(.25), c='C1', linestyle=':')\n",
    "pp.axvline(china1965.income.quantile(.75), c='C1', linestyle=':')\n",
    "\n",
    "pp.axis(xmin=0, xmax=3)"
   ]
  },
  {
   "cell_type": "code",
   "execution_count": 111,
   "id": "c0e4b14d",
   "metadata": {},
   "outputs": [
    {
     "data": {
      "text/plain": [
       "(0.0, 3.0, 0.0, 1.2342999882944063)"
      ]
     },
     "execution_count": 111,
     "metadata": {},
     "output_type": "execute_result"
    },
    {
     "data": {
      "image/png": "[encoded data removed]",
      "text/plain": [
       "<Figure size 432x288 with 1 Axes>"
      ]
     },
     "metadata": {
      "needs_background": "light"
     },
     "output_type": "display_data"
    }
   ],
   "source": [
    "china1965.income.plot(kind='hist',histtype='step', bins=30, density = True)\n",
    "china1965.income.plot.density(bw_method=.5)\n",
    "\n",
    "pp.axis(xmin=0, xmax=3)"
   ]
  },
  {
   "cell_type": "code",
   "execution_count": 116,
   "id": "ed9c881a",
   "metadata": {},
   "outputs": [
    {
     "data": {
      "image/png": "[encoded data removed]",
      "text/plain": [
       "<Figure size 432x288 with 1 Axes>"
      ]
     },
     "metadata": {
      "needs_background": "light"
     },
     "output_type": "display_data"
    }
   ],
   "source": [
    "china1965.log10_income.plot.hist(histtype='step', bins=20)\n",
    "usa1965.log10_income.plot.hist(histtype='step', bins=20)\n",
    "\n",
    "levels=[.25,.5,1,2,4,8,16,32,64]\n",
    "pp.xticks(np.log10(levels),levels);"
   ]
  },
  {
   "cell_type": "code",
   "execution_count": 115,
   "id": "bb9e41ad",
   "metadata": {},
   "outputs": [
    {
     "data": {
      "image/png": "[encoded data removed]",
      "text/plain": [
       "<Figure size 432x288 with 1 Axes>"
      ]
     },
     "metadata": {
      "needs_background": "light"
     },
     "output_type": "display_data"
    }
   ],
   "source": [
    "china2015.log10_income.plot.hist(histtype='step', bins=20)\n",
    "usa2015.log10_income.plot.hist(histtype='step', bins=20)\n",
    "\n",
    "levels=[.25,.5,1,2,4,8,16,32,64]\n",
    "pp.xticks(np.log10(levels),levels);"
   ]
  },
  {
   "cell_type": "code",
   "execution_count": 119,
   "id": "2d31bb3c",
   "metadata": {},
   "outputs": [],
   "source": [
    "china_pop2015 = float(gapminder.query('country == \"China\" and year == 2015').population)"
   ]
  },
  {
   "cell_type": "code",
   "execution_count": 121,
   "id": "6bf65588",
   "metadata": {},
   "outputs": [],
   "source": [
    "usa_pop2015 = float(gapminder.query('country == \"United States\" and year == 2015').population)"
   ]
  },
  {
   "cell_type": "code",
   "execution_count": 122,
   "id": "113e4035",
   "metadata": {},
   "outputs": [
    {
     "data": {
      "text/plain": [
       "(1376048943.0, 321773631.0)"
      ]
     },
     "execution_count": 122,
     "metadata": {},
     "output_type": "execute_result"
    }
   ],
   "source": [
    "china_pop2015, usa_pop2015"
   ]
  },
  {
   "cell_type": "code",
   "execution_count": 123,
   "id": "376f5fe8",
   "metadata": {},
   "outputs": [],
   "source": [
    "china2015['weight'] = china_pop2015/len(china2015)\n",
    "usa2015['weight'] = usa_pop2015/len(usa2015)"
   ]
  },
  {
   "cell_type": "code",
   "execution_count": 124,
   "id": "cdb06370",
   "metadata": {},
   "outputs": [
    {
     "data": {
      "image/png": "[encoded data removed]",
      "text/plain": [
       "<Figure size 432x288 with 1 Axes>"
      ]
     },
     "metadata": {
      "needs_background": "light"
     },
     "output_type": "display_data"
    }
   ],
   "source": [
    "china2015.log10_income.plot.hist(histtype='step', bins=20,weights=china2015.weight)\n",
    "usa2015.log10_income.plot.hist(histtype='step', bins=20, weights=usa2015.weight)\n",
    "\n",
    "levels=[.25,.5,1,2,4,8,16,32,64]\n",
    "pp.xticks(np.log10(levels),levels);"
   ]
  },
  {
   "cell_type": "markdown",
   "id": "8910a495",
   "metadata": {},
   "source": [
    "### 2 Variables"
   ]
  },
  {
   "cell_type": "code",
   "execution_count": 125,
   "id": "8abeac50",
   "metadata": {},
   "outputs": [
    {
     "name": "stdout",
     "output_type": "stream",
     "text": [
      "<class 'pandas.core.frame.DataFrame'>\n",
      "RangeIndex: 14740 entries, 0 to 14739\n",
      "Data columns (total 9 columns):\n",
      " #   Column            Non-Null Count  Dtype  \n",
      "---  ------            --------------  -----  \n",
      " 0   country           14740 non-null  object \n",
      " 1   year              14740 non-null  int64  \n",
      " 2   region            14740 non-null  object \n",
      " 3   population        14740 non-null  float64\n",
      " 4   life_expectancy   14740 non-null  float64\n",
      " 5   age5_surviving    14740 non-null  float64\n",
      " 6   babies_per_woman  14740 non-null  float64\n",
      " 7   gdp_per_capita    14740 non-null  float64\n",
      " 8   gdp_per_day       14740 non-null  float64\n",
      "dtypes: float64(6), int64(1), object(2)\n",
      "memory usage: 1.0+ MB\n"
     ]
    }
   ],
   "source": [
    "gapminder.info()"
   ]
  },
  {
   "cell_type": "code",
   "execution_count": 126,
   "id": "188d0a8f",
   "metadata": {},
   "outputs": [],
   "source": [
    "italy = gapminder.query('country == \"Italy\"')"
   ]
  },
  {
   "cell_type": "code",
   "execution_count": 127,
   "id": "fb37c0a8",
   "metadata": {},
   "outputs": [
    {
     "data": {
      "text/html": [
       "<div>\n",
       "<style scoped>\n",
       "    .dataframe tbody tr th:only-of-type {\n",
       "        vertical-align: middle;\n",
       "    }\n",
       "\n",
       "    .dataframe tbody tr th {\n",
       "        vertical-align: top;\n",
       "    }\n",
       "\n",
       "    .dataframe thead th {\n",
       "        text-align: right;\n",
       "    }\n",
       "</style>\n",
       "<table border=\"1\" class=\"dataframe\">\n",
       "  <thead>\n",
       "    <tr style=\"text-align: right;\">\n",
       "      <th></th>\n",
       "      <th>country</th>\n",
       "      <th>year</th>\n",
       "      <th>region</th>\n",
       "      <th>population</th>\n",
       "      <th>life_expectancy</th>\n",
       "      <th>age5_surviving</th>\n",
       "      <th>babies_per_woman</th>\n",
       "      <th>gdp_per_capita</th>\n",
       "      <th>gdp_per_day</th>\n",
       "    </tr>\n",
       "  </thead>\n",
       "  <tbody>\n",
       "    <tr>\n",
       "      <th>6397</th>\n",
       "      <td>Italy</td>\n",
       "      <td>1800</td>\n",
       "      <td>Europe</td>\n",
       "      <td>18822234.0</td>\n",
       "      <td>29.69</td>\n",
       "      <td>54.259</td>\n",
       "      <td>5.47</td>\n",
       "      <td>2225.0</td>\n",
       "      <td>6.091718</td>\n",
       "    </tr>\n",
       "    <tr>\n",
       "      <th>6398</th>\n",
       "      <td>Italy</td>\n",
       "      <td>1810</td>\n",
       "      <td>Europe</td>\n",
       "      <td>19491674.0</td>\n",
       "      <td>29.69</td>\n",
       "      <td>54.395</td>\n",
       "      <td>5.47</td>\n",
       "      <td>2371.0</td>\n",
       "      <td>6.491444</td>\n",
       "    </tr>\n",
       "    <tr>\n",
       "      <th>6399</th>\n",
       "      <td>Italy</td>\n",
       "      <td>1820</td>\n",
       "      <td>Europe</td>\n",
       "      <td>20341608.0</td>\n",
       "      <td>29.69</td>\n",
       "      <td>54.531</td>\n",
       "      <td>5.47</td>\n",
       "      <td>2474.0</td>\n",
       "      <td>6.773443</td>\n",
       "    </tr>\n",
       "    <tr>\n",
       "      <th>6400</th>\n",
       "      <td>Italy</td>\n",
       "      <td>1830</td>\n",
       "      <td>Europe</td>\n",
       "      <td>21529667.0</td>\n",
       "      <td>29.69</td>\n",
       "      <td>54.667</td>\n",
       "      <td>5.47</td>\n",
       "      <td>2471.0</td>\n",
       "      <td>6.765229</td>\n",
       "    </tr>\n",
       "    <tr>\n",
       "      <th>6401</th>\n",
       "      <td>Italy</td>\n",
       "      <td>1840</td>\n",
       "      <td>Europe</td>\n",
       "      <td>22956667.0</td>\n",
       "      <td>29.69</td>\n",
       "      <td>54.804</td>\n",
       "      <td>5.47</td>\n",
       "      <td>2524.0</td>\n",
       "      <td>6.910335</td>\n",
       "    </tr>\n",
       "  </tbody>\n",
       "</table>\n",
       "</div>"
      ],
      "text/plain": [
       "     country  year  region  population  life_expectancy  age5_surviving  \\\n",
       "6397   Italy  1800  Europe  18822234.0            29.69          54.259   \n",
       "6398   Italy  1810  Europe  19491674.0            29.69          54.395   \n",
       "6399   Italy  1820  Europe  20341608.0            29.69          54.531   \n",
       "6400   Italy  1830  Europe  21529667.0            29.69          54.667   \n",
       "6401   Italy  1840  Europe  22956667.0            29.69          54.804   \n",
       "\n",
       "      babies_per_woman  gdp_per_capita  gdp_per_day  \n",
       "6397              5.47          2225.0     6.091718  \n",
       "6398              5.47          2371.0     6.491444  \n",
       "6399              5.47          2474.0     6.773443  \n",
       "6400              5.47          2471.0     6.765229  \n",
       "6401              5.47          2524.0     6.910335  "
      ]
     },
     "execution_count": 127,
     "metadata": {},
     "output_type": "execute_result"
    }
   ],
   "source": [
    "italy.head()"
   ]
  },
  {
   "cell_type": "code",
   "execution_count": 128,
   "id": "a39582b3",
   "metadata": {},
   "outputs": [
    {
     "data": {
      "text/plain": [
       "<AxesSubplot:xlabel='year', ylabel='population'>"
      ]
     },
     "execution_count": 128,
     "metadata": {},
     "output_type": "execute_result"
    },
    {
     "data": {
      "image/png": "[encoded data removed]",
      "text/plain": [
       "<Figure size 432x288 with 1 Axes>"
      ]
     },
     "metadata": {
      "needs_background": "light"
     },
     "output_type": "display_data"
    }
   ],
   "source": [
    "italy.plot.scatter('year','population')"
   ]
  },
  {
   "cell_type": "code",
   "execution_count": 129,
   "id": "1104496d",
   "metadata": {},
   "outputs": [],
   "source": [
    "india = gapminder.query('country == \"India\"')"
   ]
  },
  {
   "cell_type": "code",
   "execution_count": 130,
   "id": "3f7f0a10",
   "metadata": {},
   "outputs": [
    {
     "data": {
      "text/html": [
       "<div>\n",
       "<style scoped>\n",
       "    .dataframe tbody tr th:only-of-type {\n",
       "        vertical-align: middle;\n",
       "    }\n",
       "\n",
       "    .dataframe tbody tr th {\n",
       "        vertical-align: top;\n",
       "    }\n",
       "\n",
       "    .dataframe thead th {\n",
       "        text-align: right;\n",
       "    }\n",
       "</style>\n",
       "<table border=\"1\" class=\"dataframe\">\n",
       "  <thead>\n",
       "    <tr style=\"text-align: right;\">\n",
       "      <th></th>\n",
       "      <th>country</th>\n",
       "      <th>year</th>\n",
       "      <th>region</th>\n",
       "      <th>population</th>\n",
       "      <th>life_expectancy</th>\n",
       "      <th>age5_surviving</th>\n",
       "      <th>babies_per_woman</th>\n",
       "      <th>gdp_per_capita</th>\n",
       "      <th>gdp_per_day</th>\n",
       "    </tr>\n",
       "  </thead>\n",
       "  <tbody>\n",
       "    <tr>\n",
       "      <th>5911</th>\n",
       "      <td>India</td>\n",
       "      <td>1800</td>\n",
       "      <td>Asia</td>\n",
       "      <td>168574895.0</td>\n",
       "      <td>25.44</td>\n",
       "      <td>49.061</td>\n",
       "      <td>5.95</td>\n",
       "      <td>1052.0</td>\n",
       "      <td>2.880219</td>\n",
       "    </tr>\n",
       "    <tr>\n",
       "      <th>5912</th>\n",
       "      <td>India</td>\n",
       "      <td>1810</td>\n",
       "      <td>Asia</td>\n",
       "      <td>171940819.0</td>\n",
       "      <td>25.44</td>\n",
       "      <td>49.061</td>\n",
       "      <td>5.95</td>\n",
       "      <td>1051.0</td>\n",
       "      <td>2.877481</td>\n",
       "    </tr>\n",
       "    <tr>\n",
       "      <th>5913</th>\n",
       "      <td>India</td>\n",
       "      <td>1820</td>\n",
       "      <td>Asia</td>\n",
       "      <td>176225709.0</td>\n",
       "      <td>25.44</td>\n",
       "      <td>49.061</td>\n",
       "      <td>5.95</td>\n",
       "      <td>1050.0</td>\n",
       "      <td>2.874743</td>\n",
       "    </tr>\n",
       "    <tr>\n",
       "      <th>5914</th>\n",
       "      <td>India</td>\n",
       "      <td>1830</td>\n",
       "      <td>Asia</td>\n",
       "      <td>182214537.0</td>\n",
       "      <td>25.44</td>\n",
       "      <td>49.061</td>\n",
       "      <td>5.95</td>\n",
       "      <td>1052.0</td>\n",
       "      <td>2.880219</td>\n",
       "    </tr>\n",
       "    <tr>\n",
       "      <th>5915</th>\n",
       "      <td>India</td>\n",
       "      <td>1840</td>\n",
       "      <td>Asia</td>\n",
       "      <td>189298397.0</td>\n",
       "      <td>25.44</td>\n",
       "      <td>49.061</td>\n",
       "      <td>5.95</td>\n",
       "      <td>1053.0</td>\n",
       "      <td>2.882957</td>\n",
       "    </tr>\n",
       "  </tbody>\n",
       "</table>\n",
       "</div>"
      ],
      "text/plain": [
       "     country  year region   population  life_expectancy  age5_surviving  \\\n",
       "5911   India  1800   Asia  168574895.0            25.44          49.061   \n",
       "5912   India  1810   Asia  171940819.0            25.44          49.061   \n",
       "5913   India  1820   Asia  176225709.0            25.44          49.061   \n",
       "5914   India  1830   Asia  182214537.0            25.44          49.061   \n",
       "5915   India  1840   Asia  189298397.0            25.44          49.061   \n",
       "\n",
       "      babies_per_woman  gdp_per_capita  gdp_per_day  \n",
       "5911              5.95          1052.0     2.880219  \n",
       "5912              5.95          1051.0     2.877481  \n",
       "5913              5.95          1050.0     2.874743  \n",
       "5914              5.95          1052.0     2.880219  \n",
       "5915              5.95          1053.0     2.882957  "
      ]
     },
     "execution_count": 130,
     "metadata": {},
     "output_type": "execute_result"
    }
   ],
   "source": [
    "india.head()"
   ]
  },
  {
   "cell_type": "code",
   "execution_count": 131,
   "id": "6e6be0a2",
   "metadata": {},
   "outputs": [
    {
     "data": {
      "text/plain": [
       "<AxesSubplot:xlabel='year', ylabel='population'>"
      ]
     },
     "execution_count": 131,
     "metadata": {},
     "output_type": "execute_result"
    },
    {
     "data": {
      "image/png": "[encoded data removed]",
      "text/plain": [
       "<Figure size 432x288 with 1 Axes>"
      ]
     },
     "metadata": {
      "needs_background": "light"
     },
     "output_type": "display_data"
    }
   ],
   "source": [
    "india.plot.scatter('year','population')"
   ]
  },
  {
   "cell_type": "code",
   "execution_count": 133,
   "id": "6ccff955",
   "metadata": {},
   "outputs": [
    {
     "data": {
      "text/plain": [
       "<AxesSubplot:xlabel='year', ylabel='gdp_per_day'>"
      ]
     },
     "execution_count": 133,
     "metadata": {},
     "output_type": "execute_result"
    },
    {
     "data": {
      "image/png": "[encoded data removed]",
      "text/plain": [
       "<Figure size 432x288 with 1 Axes>"
      ]
     },
     "metadata": {
      "needs_background": "light"
     },
     "output_type": "display_data"
    }
   ],
   "source": [
    "italy.plot.scatter('year','gdp_per_day', logy=True)"
   ]
  },
  {
   "cell_type": "code",
   "execution_count": 134,
   "id": "b41d19c8",
   "metadata": {},
   "outputs": [
    {
     "data": {
      "text/plain": [
       "<AxesSubplot:xlabel='gdp_per_day', ylabel='life_expectancy'>"
      ]
     },
     "execution_count": 134,
     "metadata": {},
     "output_type": "execute_result"
    },
    {
     "data": {
      "image/png": "[encoded data removed]",
      "text/plain": [
       "<Figure size 432x288 with 1 Axes>"
      ]
     },
     "metadata": {
      "needs_background": "light"
     },
     "output_type": "display_data"
    }
   ],
   "source": [
    "italy.plot.scatter('gdp_per_day','life_expectancy', logx=True)"
   ]
  },
  {
   "cell_type": "code",
   "execution_count": 136,
   "id": "7ae42ee8",
   "metadata": {},
   "outputs": [
    {
     "data": {
      "text/plain": [
       "<AxesSubplot:xlabel='gdp_per_day', ylabel='life_expectancy'>"
      ]
     },
     "execution_count": 136,
     "metadata": {},
     "output_type": "execute_result"
    },
    {
     "data": {
      "image/png": "[encoded data removed]",
      "text/plain": [
       "<Figure size 432x288 with 1 Axes>"
      ]
     },
     "metadata": {
      "needs_background": "light"
     },
     "output_type": "display_data"
    }
   ],
   "source": [
    "size = np.where(italy.year %10 == 0, 30, 2)\n",
    "\n",
    "italy.plot.scatter('gdp_per_day','life_expectancy', logx=True,s=size)"
   ]
  },
  {
   "cell_type": "code",
   "execution_count": 139,
   "id": "9815415e",
   "metadata": {},
   "outputs": [
    {
     "data": {
      "text/plain": [
       "<AxesSubplot:xlabel='gdp_per_day', ylabel='life_expectancy'>"
      ]
     },
     "execution_count": 139,
     "metadata": {},
     "output_type": "execute_result"
    },
    {
     "data": {
      "image/png": "[encoded data removed]",
      "text/plain": [
       "<Figure size 432x288 with 1 Axes>"
      ]
     },
     "metadata": {
      "needs_background": "light"
     },
     "output_type": "display_data"
    }
   ],
   "source": [
    "data = gapminder.query('(country == \"Italy\") or (country == \"United States\")')\n",
    "\n",
    "size = np.where(data.year %10 == 0, 30, 2)\n",
    "color = np.where(data.country == 'Italy', 'blue','orange')\n",
    "\n",
    "data.plot.scatter('gdp_per_day','life_expectancy', logx=True,s=size, c=color)"
   ]
  },
  {
   "cell_type": "code",
   "execution_count": 142,
   "id": "17c5b3a1",
   "metadata": {},
   "outputs": [
    {
     "data": {
      "text/plain": [
       "<AxesSubplot:xlabel='gdp_per_day', ylabel='life_expectancy'>"
      ]
     },
     "execution_count": 142,
     "metadata": {},
     "output_type": "execute_result"
    },
    {
     "data": {
      "image/png": "[encoded data removed]",
      "text/plain": [
       "<Figure size 432x288 with 1 Axes>"
      ]
     },
     "metadata": {
      "needs_background": "light"
     },
     "output_type": "display_data"
    }
   ],
   "source": [
    "data = gapminder.query('(country == \"China\") or (country == \"United States\")')\n",
    "\n",
    "size = np.where(data.year %10 == 0, 30, 2)\n",
    "color = np.where(data.country == 'China', 'red','orange')\n",
    "\n",
    "ax = data.plot.scatter('gdp_per_day','life_expectancy', logx=True,s=size, c=color)\n",
    "\n",
    "data[data.country == 'China'].plot.line(x='gdp_per_day', y='life_expectancy', ax=ax)"
   ]
  },
  {
   "cell_type": "markdown",
   "id": "6c32b156",
   "metadata": {},
   "source": [
    "### More than 2 variables"
   ]
  },
  {
   "cell_type": "code",
   "execution_count": null,
   "id": "c62955c1",
   "metadata": {},
   "outputs": [],
   "source": []
  }
 ],
 "metadata": {
  "kernelspec": {
   "display_name": "Python 3 (ipykernel)",
   "language": "python",
   "name": "python3"
  },
  "language_info": {
   "codemirror_mode": {
    "name": "ipython",
    "version": 3
   },
   "file_extension": ".py",
   "mimetype": "text/x-python",
   "name": "python",
   "nbconvert_exporter": "python",
   "pygments_lexer": "ipython3",
   "version": "3.9.12"
  }
 },
 "nbformat": 4,
 "nbformat_minor": 5
}
