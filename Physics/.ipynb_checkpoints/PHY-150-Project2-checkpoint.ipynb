{
 "cells": [
  {
   "cell_type": "markdown",
   "metadata": {},
   "source": [
    "<h1 margin=\"5px\"><center>A&L Engineering</center></h1>\n",
    "<h2 margin=\"5px\"><center>Cell Phone Case Materials Evaluation</center></h2>\n",
    "<h3><center>Evaluator:  Joshua Wozny<center></h3>    \n",
    "<h3><center>Date:  July 23, 2022<center></h3>\n",
    "    "
   ]
  },
  {
   "cell_type": "markdown",
   "metadata": {},
   "source": [
    "### Import Libraries"
   ]
  },
  {
   "cell_type": "code",
   "execution_count": 1,
   "metadata": {},
   "outputs": [],
   "source": [
    "import pandas as pd"
   ]
  },
  {
   "cell_type": "markdown",
   "metadata": {},
   "source": [
    "### Define Functions"
   ]
  },
  {
   "cell_type": "code",
   "execution_count": 2,
   "metadata": {},
   "outputs": [],
   "source": [
    "Accel_gravity = 9.8"
   ]
  },
  {
   "cell_type": "code",
   "execution_count": 3,
   "metadata": {},
   "outputs": [],
   "source": [
    "def convertOzToKg(mass_oz):\n",
    "    return  round(mass_oz/35.274,3)"
   ]
  },
  {
   "cell_type": "code",
   "execution_count": 4,
   "metadata": {},
   "outputs": [],
   "source": [
    "def calcAccelerationOfAirResist(time_resist, height):\n",
    "    time_noresist = .01\n",
    "    time_diff = time_resist - time_noresist\n",
    "    return round((-2*height)/(time_diff**2),2)\n",
    "    "
   ]
  },
  {
   "cell_type": "code",
   "execution_count": 5,
   "metadata": {},
   "outputs": [],
   "source": [
    "def ForceOfImpact(mass,airResistance):\n",
    "    F_gravity = mass*Accel_gravity\n",
    "    F_AirResist = - (mass * airResistance)\n",
    "    return round(F_gravity + F_AirResist,2)"
   ]
  },
  {
   "cell_type": "markdown",
   "metadata": {},
   "source": [
    "### Define variables"
   ]
  },
  {
   "cell_type": "code",
   "execution_count": 6,
   "metadata": {},
   "outputs": [],
   "source": [
    "base_height = .00049\n",
    "\n",
    "base_collisionTime_phone = .01\n",
    "base_collisionTime_silicon = .05\n",
    "base_collisionTime_plastic = .03\n",
    "base_collisionTime_rubber = .08\n",
    "\n",
    "AccelResist_silicon = calcAccelerationOfAirResist(base_collisionTime_silicon,base_height)\n",
    "AccelResist_plastic = calcAccelerationOfAirResist(base_collisionTime_plastic,base_height)\n",
    "AccelResist_rubber = calcAccelerationOfAirResist(base_collisionTime_rubber,base_height)\n",
    "\n",
    "mass_phone_kg = convertOzToKg(6.2)\n",
    "mass_case_silicon_kg = convertOzToKg(1.7) + mass_phone_kg\n",
    "mass_case_plastic_kg = convertOzToKg(1.1) + mass_phone_kg\n",
    "mass_case_rubber_kg = convertOzToKg(3.2) + mass_phone_kg\n",
    "\n",
    "collission_force_silicon = ForceOfImpact(mass_case_silicon_kg,AccelResist_silicon)\n",
    "collission_force_plastic = ForceOfImpact(mass_case_plastic_kg,AccelResist_plastic)\n",
    "collission_force_rubber_kg = ForceOfImpact(mass_case_rubber_kg,AccelResist_rubber)"
   ]
  },
  {
   "cell_type": "markdown",
   "metadata": {},
   "source": [
    "## Introduction\n",
    "### Problem Description\n",
    "<block>\n",
    "We are evaulating the materials that are being considered for the design of a cell phone, to determine which material offers the most protection. We will be evaluating each material to determine whih produced the least net Force upon impact from any given height. We are not investigating any intern forces within the case that may further mitigate the final force applied to the actual phone. We will use Newton's Laws of Motion to calculate the final force of impact for each case material.\n",
    "</block>  \n",
    "\n",
    "### Newton's Laws of Motion\n",
    "><strong><block>\n",
    "First Law: A body at rest or moving at a constant velocity will remain at rest or moving at a constant velocity, respectively, unless it is acted upon by a force. We refer to this as inertia.\n",
    "</block></strong>\n",
    "\n",
    "><strong><block>\n",
    "Second Law: Describes the changes that a force can produce on the motion of a body. Defined as $ F = ma $, where m=mass and a=acceleration.\n",
    "</block>  </strong>\n",
    "\n",
    "><strong><block>\n",
    "Third Law: Describes the system of forces when two bodies interact, for every force acting upon upon a body there is an opposing force of equal magnitude. Defined as $ F_{ab} = -F_{ba} $\n",
    "</block>  </strong>\n",
    "\n",
    ">*Note on acceleration of a falling object : because of the magnitude of Earth's mass, acceleration of an object due to gravity is independent from the object's mass.*\n",
    "\n"
   ]
  },
  {
   "attachments": {},
   "cell_type": "markdown",
   "metadata": {},
   "source": [
    "<h2><center>Force Diagram</center></h2>\n",
    "<block>Based on Newton's Third Law of Motion, we can diagram the forces on each object, recognizing that the net force of the cell phone on the ground is the same as the force of the ground upon the cell phone, but in the opposite direction.</block>\n",
    "\n",
    "***\n",
    "\n",
    "<div>\n",
    "<img src=\"../img/cell-case-eval-diag.png\" width=\"500\"/>\n",
    "</div>"
   ]
  },
  {
   "cell_type": "markdown",
   "metadata": {},
   "source": [
    "<h2>Evaluation of Materials</h2> \n",
    "\n",
    "***\n",
    "<block>Based on the measurements taken at a base height of .00049 meters, we can measure the acceleration of air resistance on each material, assuming the time to fall without resistance would be .01 seconds. We can calculate the force of gravity and the opposing force of resistance for each material based on the formula $ F=ma $ and can then calculate the net force at impact.  See output below for resulting calculations.</block>"
   ]
  },
  {
   "cell_type": "markdown",
   "metadata": {},
   "source": [
    "### Dataframe"
   ]
  },
  {
   "cell_type": "code",
   "execution_count": 7,
   "metadata": {},
   "outputs": [
    {
     "data": {
      "text/html": [
       "<div>\n",
       "<style scoped>\n",
       "    .dataframe tbody tr th:only-of-type {\n",
       "        vertical-align: middle;\n",
       "    }\n",
       "\n",
       "    .dataframe tbody tr th {\n",
       "        vertical-align: top;\n",
       "    }\n",
       "\n",
       "    .dataframe thead th {\n",
       "        text-align: right;\n",
       "    }\n",
       "</style>\n",
       "<table border=\"1\" class=\"dataframe\">\n",
       "  <thead>\n",
       "    <tr style=\"text-align: right;\">\n",
       "      <th></th>\n",
       "      <th>Mass (kg) incl. phone</th>\n",
       "      <th>base height (m)</th>\n",
       "      <th>base time (s)</th>\n",
       "      <th>g (m/s/s)</th>\n",
       "      <th>Air Resistance (m/s/s)</th>\n",
       "      <th>Force of Impact (N)</th>\n",
       "    </tr>\n",
       "    <tr>\n",
       "      <th>Test Material</th>\n",
       "      <th></th>\n",
       "      <th></th>\n",
       "      <th></th>\n",
       "      <th></th>\n",
       "      <th></th>\n",
       "      <th></th>\n",
       "    </tr>\n",
       "  </thead>\n",
       "  <tbody>\n",
       "    <tr>\n",
       "      <th>Silicone Case</th>\n",
       "      <td>0.224</td>\n",
       "      <td>0.00049</td>\n",
       "      <td>0.05</td>\n",
       "      <td>9.8</td>\n",
       "      <td>-0.61</td>\n",
       "      <td>2.33</td>\n",
       "    </tr>\n",
       "    <tr>\n",
       "      <th>Hard Plastic Case</th>\n",
       "      <td>0.207</td>\n",
       "      <td>0.00049</td>\n",
       "      <td>0.03</td>\n",
       "      <td>9.8</td>\n",
       "      <td>-2.45</td>\n",
       "      <td>2.54</td>\n",
       "    </tr>\n",
       "    <tr>\n",
       "      <th>Rubber Case</th>\n",
       "      <td>0.267</td>\n",
       "      <td>0.00049</td>\n",
       "      <td>0.08</td>\n",
       "      <td>9.8</td>\n",
       "      <td>-0.20</td>\n",
       "      <td>2.67</td>\n",
       "    </tr>\n",
       "  </tbody>\n",
       "</table>\n",
       "</div>"
      ],
      "text/plain": [
       "                   Mass (kg) incl. phone  base height (m)  base time (s)  \\\n",
       "Test Material                                                              \n",
       "Silicone Case                      0.224          0.00049           0.05   \n",
       "Hard Plastic Case                  0.207          0.00049           0.03   \n",
       "Rubber Case                        0.267          0.00049           0.08   \n",
       "\n",
       "                   g (m/s/s)  Air Resistance (m/s/s)  Force of Impact (N)  \n",
       "Test Material                                                              \n",
       "Silicone Case            9.8                   -0.61                 2.33  \n",
       "Hard Plastic Case        9.8                   -2.45                 2.54  \n",
       "Rubber Case              9.8                   -0.20                 2.67  "
      ]
     },
     "execution_count": 7,
     "metadata": {},
     "output_type": "execute_result"
    }
   ],
   "source": [
    "data = [['Silicone Case',mass_case_silicon_kg,base_height,base_collisionTime_silicon,Accel_gravity,AccelResist_silicon,collission_force_silicon],\n",
    "        ['Hard Plastic Case',mass_case_plastic_kg,base_height,base_collisionTime_plastic,Accel_gravity,AccelResist_plastic,collission_force_plastic],\n",
    "        ['Rubber Case',mass_case_rubber_kg,base_height,base_collisionTime_rubber,Accel_gravity,AccelResist_rubber,collission_force_rubber_kg]]\n",
    "column_names = ['Test Material','Mass (kg) incl. phone','base height (m)','base time (s)','g (m/s/s)','Air Resistance (m/s/s)','Force of Impact (N)']\n",
    "df_Materials = pd.DataFrame(data,columns=column_names)\n",
    "df_Materials.set_index('Test Material')"
   ]
  },
  {
   "cell_type": "markdown",
   "metadata": {},
   "source": []
  },
  {
   "cell_type": "markdown",
   "metadata": {},
   "source": [
    "## Conclusions\n",
    "<block>Based on the evaluation, the recommended material for construction of the cell phone case is silicone. The force at impact of 2.33 N is signifcantly less than that of plastic or rubber, at 2.54 and 2.67, respectively.</block>"
   ]
  },
  {
   "cell_type": "markdown",
   "metadata": {},
   "source": [
    "<h5><center>Project for Southern New Hampshire Unversity, PHY-150</center></h5>"
   ]
  }
 ],
 "metadata": {
  "kernelspec": {
   "display_name": "Python 3 (ipykernel)",
   "language": "python",
   "name": "python3"
  },
  "language_info": {
   "codemirror_mode": {
    "name": "ipython",
    "version": 3
   },
   "file_extension": ".py",
   "mimetype": "text/x-python",
   "name": "python",
   "nbconvert_exporter": "python",
   "pygments_lexer": "ipython3",
   "version": "3.10.5"
  }
 },
 "nbformat": 4,
 "nbformat_minor": 4
}
