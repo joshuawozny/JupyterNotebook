{
 "cells": [
  {
   "cell_type": "markdown",
   "metadata": {},
   "source": [
    "<h1 margin=\"5px\"><center>A&L Engineering</center></h1>\n",
    "<h2 margin=\"5px\"><center>Cell Phone Case Materials Evaluation</center></h2>\n",
    "<center>Evaluator:  Joshua Wozny<center>\n",
    "<center>Date:  July 23, 2022<center>\n",
    "    \n",
    "* ***\n"
   ]
  },
  {
   "cell_type": "markdown",
   "metadata": {},
   "source": [
    "## Introduction"
   ]
  },
  {
   "cell_type": "markdown",
   "metadata": {},
   "source": [
    "<div style=\"page-break-after: always\">\n",
    "<h3>Newton's Laws of Motion</h3>  \n",
    "    \n",
    "><strong><block>\n",
    "First Law: A body at rest or moving at a constant velocity will remain at rest or moving at a constant velocity, respectively, unless it is acted upon by a force. We refer to this as inertia.\n",
    "</block></strong>\n",
    "\n",
    "><strong><block>\n",
    "Second Law: Describes the changes that a force can produce on the motion of a body. Defined as $ F = ma $, where m=mass and a=acceleration.\n",
    "</block>  </strong>\n",
    "\n",
    "><strong><block>\n",
    "Third Law: Describes the system of forces when two bodies interact, for every force acting upon a body there is an opposing force of equal magnitude. Defined as $ F_{ab} = -F_{ba} $\n",
    "</block>  </strong>\n",
    "\n",
    ">*Note on acceleration of a falling object : because of the magnitude of Earth's mass, acceleration of an object due to gravity is independent from the object's mass.*\n",
    "\n",
    "<hr></div>"
   ]
  },
  {
   "cell_type": "markdown",
   "metadata": {},
   "source": [
    "### Background\n",
    "<block>\n",
    "A&L Engineering has developed a process that increases the acceleration of air resistance of any material it is added to. The magnitude of the increase is specific to each material, and must be determined experimentally. We refer to this as the Wz factor, which is in reference to the acceleration of gravity such that $ a_{final} = \\frac{g}{Wz^2} $\n",
    "</block>"
   ]
  },
  {
   "cell_type": "markdown",
   "metadata": {},
   "source": [
    "<h4>Proof of above formula based on experimental data collected for collision times.\n",
    "Assuming the case is only affected by the force of gravity, and is not subjected \n",
    "to the new process - due to technical reasons.</h4>\n",
    "<block>We know that all objects, irrespective of mass, fall at the same rate - so that if two objects are dropped from the same height, they should hit the ground in the same amount of time. We measured the amount of time for each test material to fall from a given height and recorded the following values:</block>\n"
   ]
  },
  {
   "cell_type": "code",
   "execution_count": 17,
   "metadata": {},
   "outputs": [],
   "source": [
    "collisionTime_phone = .01\n",
    "collisionTime_silicon = .05\n",
    "collisionTime_plastic = .03\n",
    "collisionTime_rubber = .08"
   ]
  },
  {
   "cell_type": "markdown",
   "metadata": {},
   "source": [
    "According to Newton's Laws of Motion, this indicates that an additional acceleration in opposition to gravity must exist. \n",
    "\n",
    "Proof: We know from Newton's Laws of Motion that $ t = \\sqrt{\\frac{2h}{a}} $.\n",
    "\n",
    "Therefore:\n",
    ">$ t_{phone} = \\sqrt{\\frac{2h}{g}} $  \n",
    "$ t_{silicone} = \\sqrt{\\frac{2h}{a_{silicone}}} $  \n",
    "$ t_{plastic} = \\sqrt{\\frac{2h}{a_{plastic}}} $  \n",
    "$ t_{rubber} = \\sqrt{\\frac{2h}{a_{rubber}}} $  \n",
    "\n",
    "Substituting experimental and known values:  \n",
    ">$ .03 = \\sqrt{\\frac{2h}{a_{silicone}}} = 3t_{phone} = 3(\\sqrt{\\frac{2h}{g}}) $  factor of 3  \n",
    "$ .05 = \\sqrt{\\frac{2h}{a_{plastic}}} = 5t_{phone} = 5(\\sqrt{\\frac{2h}{g}}) $  factor of 5  \n",
    "$ .08 = \\sqrt{\\frac{2h}{a_{rubber}}} = 8t_{phone} = 8(\\sqrt{\\frac{2h}{g}}) $  factor of 8  \n",
    "\n",
    "Solving for $ a_{silicone}$:  \n",
    ">$ \\sqrt{\\frac{2h}{a_{silicone}}} = 3(\\sqrt{\\frac{2h}{g}}) $  \n",
    "$ (\\sqrt{\\frac{2h}{a_{silicone}}})^2 = 3^2(\\sqrt{\\frac{2h}{g}})^2 $  \n",
    "$ \\frac{2h}{a_{silicone}} = 3^2(\\frac{2h}{g}) $  \n",
    "$ a_{silicone} = \\frac{g}{3^2} $, substituting factor of 3 for Wz, $ \\frac{g}{Wz^2} $  \n",
    "\n",
    "Solving for $ a_{plastic}$:  \n",
    ">$ \\sqrt{\\frac{2h}{a_{plastic}}} = 5(\\sqrt{\\frac{2h}{g}}) $  \n",
    "$ (\\sqrt{\\frac{2h}{a_{plastic}}})^2 = 5^2(\\sqrt{\\frac{2h}{g}})^2 $  \n",
    "$ \\frac{2h}{a_{plastic}} = 5^2(\\frac{2h}{g}) $  \n",
    "$ a_{plastic} = \\frac{g}{5^2} $, substituting factor of 5 for Wz, $ \\frac{g}{Wz^2} $  \n",
    "\n",
    "Solving for $ a_{rubber}$:  \n",
    ">$ \\sqrt{\\frac{2h}{a_{rubber}}} = 8(\\sqrt{\\frac{2h}{g}}) $  \n",
    "$ (\\sqrt{\\frac{2h}{a_{rubber}}})^2 = 8^2(\\sqrt{\\frac{2h}{g}})^2 $  \n",
    "$ \\frac{2h}{a_{rubber}} = 8^2(\\frac{2h}{g}) $  \n",
    "$ a_{rubber} = \\frac{g}{8^2} $, substituting factor of 8 for Wz, $ \\frac{g}{Wz^2} $  "
   ]
  },
  {
   "cell_type": "markdown",
   "metadata": {},
   "source": [
    "### Problem Description\n",
    "<block>\n",
    "We are evaulating the materials, subject to this process, that are being considered for the design of a cell phone, to determine which material offers the most protection. We will be evaluating each material to determine which produced the smallest net force upon impact from any given height. We are not investigating any internal forces within the case that may further mitigate the final force acting upon the cell phone within the case. We will use Newton's Laws of Motion to calculate the final force of impact for each case material.\n",
    "</block>  \n"
   ]
  },
  {
   "cell_type": "markdown",
   "metadata": {},
   "source": [
    "### Define Functions and Variables"
   ]
  },
  {
   "cell_type": "code",
   "execution_count": 18,
   "metadata": {},
   "outputs": [],
   "source": [
    "def convertOzToKg(mass_oz):\n",
    "    return  round(mass_oz/35.274,3)"
   ]
  },
  {
   "cell_type": "code",
   "execution_count": 19,
   "metadata": {},
   "outputs": [],
   "source": [
    "def calcNetAccleration(g,wzFactor):\n",
    "    aFinal = g/(wzFactor**2)\n",
    "    return round(aFinal,3)"
   ]
  },
  {
   "cell_type": "code",
   "execution_count": 20,
   "metadata": {},
   "outputs": [],
   "source": [
    "def ForceOfImpact(mass,aFinal):\n",
    "    return round(mass*aFinal,3)"
   ]
  },
  {
   "cell_type": "code",
   "execution_count": 21,
   "metadata": {},
   "outputs": [],
   "source": [
    "Accel_gravity = 9.8\n",
    "\n",
    "wz_phone = 1\n",
    "wz_silicon = collisionTime_silicon / collisionTime_phone\n",
    "wz_plastic = collisionTime_plastic / collisionTime_phone\n",
    "wz_rubber = collisionTime_rubber / collisionTime_phone\n",
    "\n",
    "aNet_phone = calcNetAccleration(Accel_gravity,wz_phone)\n",
    "aNet_silicon = calcNetAccleration(Accel_gravity,wz_silicon)\n",
    "aNet_plastic = calcNetAccleration(Accel_gravity,wz_plastic)\n",
    "aNet_rubber = calcNetAccleration(Accel_gravity,wz_rubber)\n",
    "\n",
    "mass_phone_kg = convertOzToKg(6.2)\n",
    "mass_case_silicon_kg = convertOzToKg(1.7) + mass_phone_kg\n",
    "mass_case_plastic_kg = convertOzToKg(1.1) + mass_phone_kg\n",
    "mass_case_rubber_kg = convertOzToKg(3.2) + mass_phone_kg\n",
    "\n",
    "collission_force_phone = ForceOfImpact(mass_phone_kg,aNet_phone)\n",
    "collission_force_silicon = ForceOfImpact(mass_case_silicon_kg,\n",
    "                                                    aNet_silicon)\n",
    "collission_force_plastic = ForceOfImpact(mass_case_silicon_kg,\n",
    "                                                     aNet_plastic)\n",
    "collission_force_rubber = ForceOfImpact(mass_case_silicon_kg,\n",
    "                                                    aNet_rubber)"
   ]
  },
  {
   "cell_type": "markdown",
   "metadata": {},
   "source": [
    "<h2><center>Force Diagram</center></h2>\n",
    "<block>Based on Newton's Third Law of Motion, we can diagram the forces on each object, recognizing that the net force of the cell phone on the ground is the same as the force of the ground upon the cell phone, but in the opposite direction.</block>\n",
    "\n",
    "***\n",
    "\n",
    "<div>\n",
    "<img src=\"files/img/cell-case-eval-diag.png\" width=\"500\"/>\n",
    "</div>"
   ]
  },
  {
   "cell_type": "markdown",
   "metadata": {},
   "source": [
    "<h2>Evaluation of Materials</h2> \n",
    "\n",
    "***\n",
    "<block>\n",
    "Based on our  experiments and calculations, we can determine the velocity and force of impact on the case and cell phone of each material, to determine which case offers the most protection. \n",
    "</block>\n",
    "\n",
    ">$ v = gt $  \n",
    "$ d = 0.5gt^2 $  \n",
    "$ F = ma $"
   ]
  },
  {
   "cell_type": "code",
   "execution_count": 22,
   "metadata": {},
   "outputs": [],
   "source": [
    "import math\n",
    "height = 1\n",
    "time = math.sqrt(2*height / Accel_gravity)\n",
    "velocity_phone = round(time * Accel_gravity,2)\n",
    "velocity_silicone = round(time * aNet_silicon,2)\n",
    "velocity_plastic = round(time * aNet_plastic,2)\n",
    "velocity_rubber = round(time * aNet_rubber,2)"
   ]
  },
  {
   "cell_type": "markdown",
   "metadata": {},
   "source": [
    "### Results Table\n",
    "***"
   ]
  },
  {
   "cell_type": "code",
   "execution_count": 24,
   "metadata": {},
   "outputs": [
    {
     "data": {
      "text/html": [
       "<div>\n",
       "<style scoped>\n",
       "    .dataframe tbody tr th:only-of-type {\n",
       "        vertical-align: middle;\n",
       "    }\n",
       "\n",
       "    .dataframe tbody tr th {\n",
       "        vertical-align: top;\n",
       "    }\n",
       "\n",
       "    .dataframe thead th {\n",
       "        text-align: right;\n",
       "    }\n",
       "</style>\n",
       "<table border=\"1\" class=\"dataframe\">\n",
       "  <thead>\n",
       "    <tr style=\"text-align: right;\">\n",
       "      <th></th>\n",
       "      <th>Mass (kg) incl. phone</th>\n",
       "      <th>Wz-factor</th>\n",
       "      <th>Acceleration (m/s/s)</th>\n",
       "      <th>Impact Velocity (m/s)</th>\n",
       "      <th>Force of Impact (N)</th>\n",
       "    </tr>\n",
       "    <tr>\n",
       "      <th>Test Material</th>\n",
       "      <th></th>\n",
       "      <th></th>\n",
       "      <th></th>\n",
       "      <th></th>\n",
       "      <th></th>\n",
       "    </tr>\n",
       "  </thead>\n",
       "  <tbody>\n",
       "    <tr>\n",
       "      <th>Phone Only</th>\n",
       "      <td>0.176</td>\n",
       "      <td>1.0</td>\n",
       "      <td>9.800</td>\n",
       "      <td>4.43</td>\n",
       "      <td>1.725</td>\n",
       "    </tr>\n",
       "    <tr>\n",
       "      <th>Silicone Case</th>\n",
       "      <td>0.224</td>\n",
       "      <td>5.0</td>\n",
       "      <td>0.392</td>\n",
       "      <td>0.18</td>\n",
       "      <td>0.088</td>\n",
       "    </tr>\n",
       "    <tr>\n",
       "      <th>Plastic Case</th>\n",
       "      <td>0.207</td>\n",
       "      <td>3.0</td>\n",
       "      <td>1.089</td>\n",
       "      <td>0.49</td>\n",
       "      <td>0.244</td>\n",
       "    </tr>\n",
       "    <tr>\n",
       "      <th>Rubber Case</th>\n",
       "      <td>0.267</td>\n",
       "      <td>8.0</td>\n",
       "      <td>0.153</td>\n",
       "      <td>0.07</td>\n",
       "      <td>0.034</td>\n",
       "    </tr>\n",
       "  </tbody>\n",
       "</table>\n",
       "</div>"
      ],
      "text/plain": [
       "               Mass (kg) incl. phone  Wz-factor  Acceleration (m/s/s)  \\\n",
       "Test Material                                                           \n",
       "Phone Only                     0.176        1.0                 9.800   \n",
       "Silicone Case                  0.224        5.0                 0.392   \n",
       "Plastic Case                   0.207        3.0                 1.089   \n",
       "Rubber Case                    0.267        8.0                 0.153   \n",
       "\n",
       "               Impact Velocity (m/s)  Force of Impact (N)  \n",
       "Test Material                                              \n",
       "Phone Only                      4.43                1.725  \n",
       "Silicone Case                   0.18                0.088  \n",
       "Plastic Case                    0.49                0.244  \n",
       "Rubber Case                     0.07                0.034  "
      ]
     },
     "execution_count": 24,
     "metadata": {},
     "output_type": "execute_result"
    }
   ],
   "source": [
    "import pandas as pd\n",
    "data = [['Phone Only',mass_phone_kg,wz_phone,aNet_phone,\n",
    "                    velocity_phone, collission_force_phone],\n",
    "        ['Silicone Case',mass_case_silicon_kg,wz_silicon,\n",
    "            aNet_silicon,velocity_silicone,collission_force_silicon],\n",
    "        ['Plastic Case',mass_case_plastic_kg,wz_plastic,\n",
    "            aNet_plastic,velocity_plastic, collission_force_plastic],\n",
    "        ['Rubber Case',mass_case_rubber_kg,wz_rubber,\n",
    "            aNet_rubber,velocity_rubber, collission_force_rubber]]\n",
    "column_names = ['Test Material','Mass (kg) incl. phone','Wz-factor',\n",
    "                    'Acceleration (m/s/s)','Impact Velocity (m/s)','Force of Impact (N)']\n",
    "df_Materials = pd.DataFrame(data,columns=column_names)\n",
    "df_Materials.set_index('Test Material')"
   ]
  },
  {
   "cell_type": "markdown",
   "metadata": {},
   "source": [
    "## Conclusion\n",
    "<block>Based on the evaluation, the recommended material for construction of the cell phone case is rubber. The velocity of 0.07 m/s and force of 0.034 N at impact is signifcantly less than that of silicone or plastic, at 0.18 m/s and 0.088 N, and 0.49 m/s and 0.244 N, respectively.</block>\n",
    "***"
   ]
  },
  {
   "cell_type": "markdown",
   "metadata": {},
   "source": [
    "<h6>Project for Southern New Hampshire Unversity, PHY-150</h6>"
   ]
  }
 ],
 "metadata": {
  "kernelspec": {
   "display_name": "Python 3 (ipykernel)",
   "language": "python",
   "name": "python3"
  },
  "language_info": {
   "codemirror_mode": {
    "name": "ipython",
    "version": 3
   },
   "file_extension": ".py",
   "mimetype": "text/x-python",
   "name": "python",
   "nbconvert_exporter": "python",
   "pygments_lexer": "ipython3",
   "version": "3.10.5"
  }
 },
 "nbformat": 4,
 "nbformat_minor": 4
}
