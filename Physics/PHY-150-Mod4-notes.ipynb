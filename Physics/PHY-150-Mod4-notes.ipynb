{
 "cells": [
  {
   "cell_type": "markdown",
   "metadata": {},
   "source": [
    "### Drag Force in freefall\n",
    "$ F_D = \\frac{1}{2}C\\rho Av^2 $  \n",
    ">C=drag coefficient  \n",
    "$\\rho $ = density of the fluid  \n",
    "A = Area  \n",
    "v = velocity\n",
    "\n",
    "$F_D = mg $  \n",
    "\n",
    "$ v_T = \\sqrt{\\frac{2mg}{\\rho CA}} $"
   ]
  },
  {
   "cell_type": "code",
   "execution_count": 14,
   "metadata": {},
   "outputs": [],
   "source": [
    "import math"
   ]
  },
  {
   "cell_type": "code",
   "execution_count": 15,
   "metadata": {},
   "outputs": [],
   "source": [
    "def convertMetersPerSecondToKilometersPerHour(value):\n",
    "    return value*3.6,;"
   ]
  },
  {
   "cell_type": "code",
   "execution_count": 18,
   "metadata": {},
   "outputs": [
    {
     "name": "stdout",
     "output_type": "stream",
     "text": [
      "Terminal velocity is  110.38 m/s\n",
      "Terminal velocity is  397.35 km/hr\n"
     ]
    }
   ],
   "source": [
    "g=9.8 \n",
    "m = 89.5\n",
    "C=.7\n",
    "p=1.21\n",
    "A=.17\n",
    "vT= math.sqrt((2*m*g)/(p*C*A))\n",
    "print(\"Terminal velocity is \",round(vT,2),\"m/s\");\n",
    "print(\"Terminal velocity is \",round(convertMetersPerSecondToKilometersPerHour(vT),2),\"km/hr\");"
   ]
  },
  {
   "cell_type": "markdown",
   "metadata": {},
   "source": [
    "### Distance traveled calculated from rotations of tire\n",
    "$ distance = C = 2\\pi r = \\pi d  $\n",
    ">C = circumfrance  \n",
    "r = radius  \n",
    "d = diameter  \n",
    "$ \\pi = 3.14 $"
   ]
  },
  {
   "cell_type": "code",
   "execution_count": 29,
   "metadata": {},
   "outputs": [],
   "source": [
    "def calculateDistance(diameter_km, rotations):\n",
    "    return math.pi * diameter_km * rotations"
   ]
  },
  {
   "cell_type": "code",
   "execution_count": 31,
   "metadata": {},
   "outputs": [
    {
     "name": "stdout",
     "output_type": "stream",
     "text": [
      "Distance traveled is 598.16 km\n"
     ]
    }
   ],
   "source": [
    "diameter = 1.19/1000\n",
    "rotations = 160000\n",
    "print(\"Distance traveled is\", round(calculateDistance(diameter,rotations),2),\"km\")"
   ]
  },
  {
   "cell_type": "code",
   "execution_count": 47,
   "metadata": {},
   "outputs": [
    {
     "name": "stdout",
     "output_type": "stream",
     "text": [
      "Velocity is 98.855 m/s\n",
      "Ratio of this Linear velocity to speed of sound 0.29\n"
     ]
    }
   ],
   "source": [
    "diameter = 2*3.2/1000\n",
    "rotations = 295\n",
    "distance_m = calculateDistance(diameter,rotations)*1000\n",
    "print(\"Velocity is\",round(distance_m/60,3),\"m/s\")\n",
    "print(\"Ratio of this Linear velocity to speed of sound\", round(98.86/340,2))"
   ]
  },
  {
   "cell_type": "code",
   "execution_count": 45,
   "metadata": {},
   "outputs": [
    {
     "name": "stdout",
     "output_type": "stream",
     "text": [
      "2.265986394557823\n",
      "0.09047619047619049\n"
     ]
    }
   ],
   "source": [
    "print(333.1/(15*9.8))\n",
    "print(13.3/(15*9.8))"
   ]
  },
  {
   "cell_type": "code",
   "execution_count": null,
   "metadata": {},
   "outputs": [],
   "source": []
  }
 ],
 "metadata": {
  "kernelspec": {
   "display_name": "Python 3 (ipykernel)",
   "language": "python",
   "name": "python3"
  },
  "language_info": {
   "codemirror_mode": {
    "name": "ipython",
    "version": 3
   },
   "file_extension": ".py",
   "mimetype": "text/x-python",
   "name": "python",
   "nbconvert_exporter": "python",
   "pygments_lexer": "ipython3",
   "version": "3.10.5"
  }
 },
 "nbformat": 4,
 "nbformat_minor": 4
}
