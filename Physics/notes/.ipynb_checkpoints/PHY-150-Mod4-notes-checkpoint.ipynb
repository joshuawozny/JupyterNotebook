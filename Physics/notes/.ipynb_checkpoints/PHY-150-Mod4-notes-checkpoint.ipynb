{
 "cells": [
  {
   "cell_type": "markdown",
   "metadata": {},
   "source": [
    "### Drag Force in freefall\n",
    "$ F_D = \\frac{1}{2}C\\rho Av^2 $  \n",
    ">C=drag coefficient  \n",
    "$\\rho $ = density of the fluid  \n",
    "A = Area  \n",
    "v = velocity\n",
    "\n",
    "$F_D = mg $  \n",
    "\n",
    "$ v_T = \\sqrt{\\frac{2mg}{\\rho CA}} $"
   ]
  },
  {
   "cell_type": "code",
   "execution_count": 23,
   "metadata": {},
   "outputs": [],
   "source": [
    "import math"
   ]
  },
  {
   "cell_type": "code",
   "execution_count": 24,
   "metadata": {},
   "outputs": [],
   "source": [
    "def convertMetersPerSecondToKilometersPerHour(value):\n",
    "    return value*3.6,;"
   ]
  },
  {
   "cell_type": "code",
   "execution_count": 25,
   "metadata": {},
   "outputs": [
    {
     "name": "stdout",
     "output_type": "stream",
     "text": [
      "Terminal velocity is  110.38 m/s\n"
     ]
    },
    {
     "ename": "TypeError",
     "evalue": "type tuple doesn't define __round__ method",
     "output_type": "error",
     "traceback": [
      "\u001b[0;31m---------------------------------------------------------------------------\u001b[0m",
      "\u001b[0;31mTypeError\u001b[0m                                 Traceback (most recent call last)",
      "\u001b[0;32m<ipython-input-25-40be0ec44e30>\u001b[0m in \u001b[0;36m<module>\u001b[0;34m\u001b[0m\n\u001b[1;32m      6\u001b[0m \u001b[0mvT\u001b[0m\u001b[0;34m=\u001b[0m \u001b[0mmath\u001b[0m\u001b[0;34m.\u001b[0m\u001b[0msqrt\u001b[0m\u001b[0;34m(\u001b[0m\u001b[0;34m(\u001b[0m\u001b[0;36m2\u001b[0m\u001b[0;34m*\u001b[0m\u001b[0mm\u001b[0m\u001b[0;34m*\u001b[0m\u001b[0mg\u001b[0m\u001b[0;34m)\u001b[0m\u001b[0;34m/\u001b[0m\u001b[0;34m(\u001b[0m\u001b[0mp\u001b[0m\u001b[0;34m*\u001b[0m\u001b[0mC\u001b[0m\u001b[0;34m*\u001b[0m\u001b[0mA\u001b[0m\u001b[0;34m)\u001b[0m\u001b[0;34m)\u001b[0m\u001b[0;34m\u001b[0m\u001b[0;34m\u001b[0m\u001b[0m\n\u001b[1;32m      7\u001b[0m \u001b[0mprint\u001b[0m\u001b[0;34m(\u001b[0m\u001b[0;34m\"Terminal velocity is \"\u001b[0m\u001b[0;34m,\u001b[0m\u001b[0mround\u001b[0m\u001b[0;34m(\u001b[0m\u001b[0mvT\u001b[0m\u001b[0;34m,\u001b[0m\u001b[0;36m2\u001b[0m\u001b[0;34m)\u001b[0m\u001b[0;34m,\u001b[0m\u001b[0;34m\"m/s\"\u001b[0m\u001b[0;34m)\u001b[0m\u001b[0;34m;\u001b[0m\u001b[0;34m\u001b[0m\u001b[0;34m\u001b[0m\u001b[0m\n\u001b[0;32m----> 8\u001b[0;31m \u001b[0mprint\u001b[0m\u001b[0;34m(\u001b[0m\u001b[0;34m\"Terminal velocity is \"\u001b[0m\u001b[0;34m,\u001b[0m\u001b[0mround\u001b[0m\u001b[0;34m(\u001b[0m\u001b[0mconvertMetersPerSecondToKilometersPerHour\u001b[0m\u001b[0;34m(\u001b[0m\u001b[0mvT\u001b[0m\u001b[0;34m)\u001b[0m\u001b[0;34m,\u001b[0m\u001b[0;36m2\u001b[0m\u001b[0;34m)\u001b[0m\u001b[0;34m,\u001b[0m\u001b[0;34m\"km/hr\"\u001b[0m\u001b[0;34m)\u001b[0m\u001b[0;34m;\u001b[0m\u001b[0;34m\u001b[0m\u001b[0;34m\u001b[0m\u001b[0m\n\u001b[0m",
      "\u001b[0;31mTypeError\u001b[0m: type tuple doesn't define __round__ method"
     ]
    }
   ],
   "source": [
    "g=9.8 \n",
    "m = 89.5\n",
    "C=.7\n",
    "p=1.21\n",
    "A=.17\n",
    "vT= math.sqrt((2*m*g)/(p*C*A))\n",
    "print(\"Terminal velocity is \",round(vT,2),\"m/s\");\n",
    "print(\"Terminal velocity is \",round(convertMetersPerSecondToKilometersPerHour(vT),2),\"km/hr\");"
   ]
  },
  {
   "cell_type": "markdown",
   "metadata": {},
   "source": [
    "### Distance traveled calculated from rotations of tire\n",
    "$ distance = C = 2\\pi r = \\pi d  $\n",
    ">C = circumfrance  \n",
    "r = radius  \n",
    "d = diameter  \n",
    "$ \\pi = 3.14 $"
   ]
  },
  {
   "cell_type": "code",
   "execution_count": null,
   "metadata": {},
   "outputs": [],
   "source": [
    "def calculateDistance(diameter_km, rotations):\n",
    "    return math.pi * diameter_km * rotations"
   ]
  },
  {
   "cell_type": "code",
   "execution_count": null,
   "metadata": {},
   "outputs": [],
   "source": [
    "diameter = 1.19/1000\n",
    "rotations = 160000\n",
    "print(\"Distance traveled is\", round(calculateDistance(diameter,rotations),2),\"km\")"
   ]
  },
  {
   "cell_type": "code",
   "execution_count": null,
   "metadata": {},
   "outputs": [],
   "source": [
    "diameter = 2*3.2/1000\n",
    "rotations = 295\n",
    "distance_m = calculateDistance(diameter,rotations)*1000\n",
    "print(\"Velocity is\",round(distance_m/60,3),\"m/s\")\n",
    "print(\"Ratio of this Linear velocity to speed of sound\", round(98.86/340,2))"
   ]
  },
  {
   "cell_type": "markdown",
   "metadata": {},
   "source": [
    "<h2>Problem</h2>\n",
    "\n",
    "$ f = \\mu N $ \n",
    ">$\\mu = $ coefficient of friction  \n",
    "$ N $ = Normal force\n",
    "\n",
    "<block>\n",
    "A person, with mass of 56 kg, is pushing a block of ice to the right on the surface of a frozen lake. The person is applying force on the top-left corner of the block. The arrow representing the force vector F is shown to act diagonally downward from the shoulder of the person to the top-left corner of the block. This arrow is at an angle of 25° below the horizontal from the person's shoulder level."
   ]
  },
  {
   "cell_type": "markdown",
   "metadata": {},
   "source": [
    "<h3>Definitions</h3>"
   ]
  },
  {
   "cell_type": "markdown",
   "metadata": {},
   "source": [
    "$ F_{vertical} = F_{graviity} - F*sin(\\theta) $  \n",
    "$ F_{horizontal} = F*cos(\\theta) = \\mu*(F_{gravity} - F*sin(\\theta)) $  \n",
    "$ f = \\mu (F_{graviity} - F*sin(\\theta)) $  "
   ]
  },
  {
   "cell_type": "code",
   "execution_count": null,
   "metadata": {},
   "outputs": [],
   "source": [
    "import math\n",
    "PI = math.pi\n",
    "\n",
    "def convertDegreesToRadians(degrees):\n",
    "    return degrees * (PI / 180)\n",
    "\n",
    "def calculateF(angleA_radians, uCoeff, a, mass):\n",
    "    return ((uCoeff*a*mass)/(math.cos(angleA_radians) + uCoeff*math.sin(angleA_radians)))"
   ]
  },
  {
   "cell_type": "code",
   "execution_count": null,
   "metadata": {},
   "outputs": [],
   "source": [
    "mass = 56   #kilograms\n",
    "g = 9.8    #meters/sec/sec\n",
    "fGravity = 9.8 * mass #Newtons\n",
    "angleA_degrees = -25.0 #degrees\n",
    "angleA_radians = convertDegreesToRadians(angleA_degrees)\n",
    "uStatic = .1\n",
    "uFriction = .03\n",
    "sinA = math.sin(angleA_radians)\n",
    "cosA = math.cos(angleA_radians)\n",
    "\n",
    "F = calculateF(angleA_radians,uStatic,g,mass)\n",
    "\n",
    "accel = F*(math.cos(angleA_radians) + uFriction*math.sin(angleA_radians))/mass - uFriction*g\n",
    "\n",
    "print('F:',round(F,1),'N')\n",
    "print('Accel.:',round(accel,2),'m/s/s')"
   ]
  }
 ],
 "metadata": {
  "kernelspec": {
   "display_name": "Python 3 (ipykernel)",
   "language": "python",
   "name": "python3"
  },
  "language_info": {
   "codemirror_mode": {
    "name": "ipython",
    "version": 3
   },
   "file_extension": ".py",
   "mimetype": "text/x-python",
   "name": "python",
   "nbconvert_exporter": "python",
   "pygments_lexer": "ipython3",
   "version": "3.10.5"
  }
 },
 "nbformat": 4,
 "nbformat_minor": 4
}
